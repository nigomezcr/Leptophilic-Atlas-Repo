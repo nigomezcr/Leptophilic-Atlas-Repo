{
 "cells": [
  {
   "cell_type": "code",
   "execution_count": 7,
   "metadata": {},
   "outputs": [],
   "source": [
    "import numpy as np\n",
    "from PlotSettings import MainColor1, plt\n",
    "from CrossSections import Transfer_Sigma_Low_Energy, Transfer_Sigmav_Low_Energy, sigv_T"
   ]
  },
  {
   "cell_type": "markdown",
   "metadata": {},
   "source": [
    "## Fits con datos de Yu"
   ]
  },
  {
   "cell_type": "code",
   "execution_count": 4,
   "metadata": {},
   "outputs": [],
   "source": [
    "\n",
    "#for the plots\n",
    "DwarfData = np.loadtxt('Data-Sets/DwarfDataPlot.csv', delimiter='\\t')\n",
    "Dwarf_x =     DwarfData[:,0]\n",
    "Dwarf_y =     DwarfData[:,1]\n",
    "Dwarf_Err_l = DwarfData[:,2]\n",
    "Dwarf_Err_r = DwarfData[:,3]\n",
    "Dwarf_Err_d = DwarfData[:,4]\n",
    "Dwarf_Err_u = DwarfData[:,5]\n",
    "\n",
    "GalaxyData = np.loadtxt('Data-Sets/GalaxyDataPlot.csv', delimiter='\\t')\n",
    "Galaxy_x = GalaxyData[:,0]\n",
    "Galaxy_y = GalaxyData[:,1]\n",
    "Galaxy_Err_l = GalaxyData[:,2]\n",
    "Galaxy_Err_r = GalaxyData[:,3]\n",
    "Galaxy_Err_d = GalaxyData[:,4]\n",
    "Galaxy_Err_u = GalaxyData[:,5]\n",
    "\n",
    "ClusterData = np.loadtxt('Data-Sets/ClusterDataPlot.csv', delimiter='\\t')\n",
    "Cluster_x = ClusterData[:,0]\n",
    "Cluster_y = ClusterData[:,1]\n",
    "Cluster_Err_l = ClusterData[:,2]\n",
    "Cluster_Err_r = ClusterData[:,3]\n",
    "Cluster_Err_d = ClusterData[:,4]\n",
    "Cluster_Err_u = ClusterData[:,5]\n",
    "\n",
    "# For the fit\n",
    "OrderedData = np.loadtxt('Data-Sets/Datos_ordenados.csv')\n",
    "x_data = OrderedData[:,0]\n",
    "y_data = OrderedData[:,1]\n",
    "err_x_data = OrderedData[:,2]\n",
    "err_y_data = OrderedData[:,3]\n"
   ]
  },
  {
   "cell_type": "code",
   "execution_count": 6,
   "metadata": {},
   "outputs": [
    {
     "data": {
      "text/plain": [
       "array([ 0.02, 10.  ])"
      ]
     },
     "execution_count": 6,
     "metadata": {},
     "output_type": "execute_result"
    }
   ],
   "source": [
    "from scipy.optimize import minimize\n",
    "\n",
    "alpha_EM = 1/137\n",
    "e = np.sqrt(4*np.pi*alpha_EM)\n",
    "\n",
    "\n",
    "def compute_chi2(free_params, x=None, data=None, err=None):\n",
    "    \n",
    "    M, m = free_params\n",
    "    errx, erry = err\n",
    "    model = [Transfer_Sigmav_Low_Energy(x, g=e, M=M, m=m) for x in x]\n",
    "\n",
    "    #chi2 computation\n",
    "    chi2y= np.sum((data-model)**2/erry**2)\n",
    "    chi2x= np.sum((x - 2*x*np.sqrt(2/np.pi))**2/errx**2)\n",
    "    return chi2x + chi2y\n",
    "\n",
    "priors = [0.02, 10]\n",
    "\n",
    "Sol = minimize(compute_chi2, priors, args=(x_data, y_data, (err_x_data, err_y_data)) )\n",
    "\n",
    "Sol.x\n",
    "\n"
   ]
  },
  {
   "cell_type": "markdown",
   "metadata": {},
   "source": [
    "## Fits con Datos de Camila"
   ]
  },
  {
   "cell_type": "code",
   "execution_count": 14,
   "metadata": {},
   "outputs": [],
   "source": [
    "#Import Data from Camila Correa\n",
    "CamilaData = np.loadtxt('Data-Sets/Data_Fig7_Correa_2021.txt')\n",
    "\n",
    "VelocityData = CamilaData[:,0]\n",
    "VelocityData_left_Err = CamilaData[:,1]\n",
    "VelocityData_right_Err = CamilaData[:,2]\n",
    "\n",
    "WightedCrossSectionData = CamilaData[:,3]\n",
    "WightedCrossSectionData_left_Err = CamilaData[:,4]\n",
    "WightedCrossSectionData_right_Err = CamilaData[:,5]\n"
   ]
  },
  {
   "cell_type": "code",
   "execution_count": 8,
   "metadata": {},
   "outputs": [
    {
     "name": "stderr",
     "output_type": "stream",
     "text": [
      "d:\\Nicolás\\Documents\\Research\\Pre-Prints\\Leptophilic-Atlas\\Leptophilic-Atlas-Repo\\Leptophilic-Atlas-Repo\\CrossSections.py:70: RuntimeWarning: invalid value encountered in log\n",
      "  sigma_t = Prefactor*( (s*v**2*(2*s + 3*M**2)+2*(M**2 + 2*m**2)**2)/(2*M**2*(M**2+s*v**2)) - (M**2 + s)/(s*v**2)*np.log(1 + s*v**2/M**2) )\n",
      "d:\\Nicolás\\Documents\\Research\\Pre-Prints\\Leptophilic-Atlas\\Leptophilic-Atlas-Repo\\Leptophilic-Atlas-Repo\\CrossSections.py:72: RuntimeWarning: invalid value encountered in log\n",
      "  sigma_st = -Prefactor/2*( (16*m**2+2*M**2+ 3*s*v**2)/(s-M**2) - (4*m**2 + 2*m**2*(4*M**2+3*s*v**2+s ) + (M**2+s*v**2)**2 )/(s*v**2*(s-M**2))*np.log(1 + s*v**2/M**2) )\n",
      "d:\\Nicolás\\Documents\\Research\\Pre-Prints\\Leptophilic-Atlas\\Leptophilic-Atlas-Repo\\Leptophilic-Atlas-Repo\\CrossSections.py:62: RuntimeWarning: invalid value encountered in log\n",
      "  return  fc*Prefactor*(Term1 + LogTerm1*np.log(1 + s*v**2/M**2) )\n",
      "d:\\Nicolás\\Documents\\Research\\Pre-Prints\\Leptophilic-Atlas\\Leptophilic-Atlas-Repo\\Leptophilic-Atlas-Repo\\CrossSections.py:270: IntegrationWarning: The occurrence of roundoff error is detected, which prevents \n",
      "  the requested tolerance from being achieved.  The error may be \n",
      "  underestimated.\n",
      "  Integral = quad(sigv_integrand, 0.1, vmax, args=(v0, g, M, m))[0]\n"
     ]
    },
    {
     "name": "stdout",
     "output_type": "stream",
     "text": [
      "Maximum likelihood estimates:\n",
      "log g = -1.523\n",
      "log M = -2.301\n",
      "log m = 0.699\n"
     ]
    }
   ],
   "source": [
    "# Define a chi square distribution to use as input in emcee\n",
    "def compute_chi2(free_params, x=None, data=None, err=None):\n",
    "    #Compute model\n",
    "    lg, lM, lm = free_params\n",
    "    g, M, m = pow(10,lg), pow(10, lM), pow(10, lm)\n",
    "    model = [sigv_T(x, g, M, m) for x in x]\n",
    "\n",
    "    errx, erry = err\n",
    "    #chi2 computation\n",
    "    chi2y= np.sum((data-model)**2/erry**2)\n",
    "    chi2x= np.sum((x - 2*x*np.sqrt(2/np.pi))**2/errx**2)\n",
    "    return chi2x + chi2y\n",
    "\n",
    "from scipy.optimize import minimize\n",
    "\n",
    "\n",
    "g1, M1, m1 = 3e-2, 5e-3, 5\n",
    "l_g1 = np.log10(g1)\n",
    "l_M1 = np.log10(M1)\n",
    "l_m1 = np.log10(m1)\n",
    "\n",
    "initial = [l_g1, l_M1, l_m1]\n",
    "\n",
    "\n",
    "soln = minimize(compute_chi2, initial, args=(x_data, y_data, (err_x_data, err_y_data)) )\n",
    "\n",
    "log_g_ml, log_M_ml, log_m_ml = soln.x\n",
    "\n",
    "print(\"Maximum likelihood estimates:\")\n",
    "print(\"log g = {0:.3f}\".format(log_g_ml))\n",
    "print(\"log M = {0:.3f}\".format(log_M_ml))\n",
    "print(\"log m = {0:.3f}\".format(log_m_ml))"
   ]
  },
  {
   "cell_type": "code",
   "execution_count": null,
   "metadata": {},
   "outputs": [],
   "source": []
  }
 ],
 "metadata": {
  "kernelspec": {
   "display_name": "base",
   "language": "python",
   "name": "python3"
  },
  "language_info": {
   "codemirror_mode": {
    "name": "ipython",
    "version": 3
   },
   "file_extension": ".py",
   "mimetype": "text/x-python",
   "name": "python",
   "nbconvert_exporter": "python",
   "pygments_lexer": "ipython3",
   "version": "3.10.9"
  }
 },
 "nbformat": 4,
 "nbformat_minor": 2
}
