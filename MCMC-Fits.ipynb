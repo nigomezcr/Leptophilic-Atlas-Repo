{
 "cells": [
  {
   "cell_type": "code",
   "execution_count": 7,
   "metadata": {},
   "outputs": [],
   "source": [
    "import numpy as np\n",
    "from CrossSections import Transfer_SigmaV, Normalized_SigmaV, Transfer_sigma, Normalized_Transer, Transfer_Sigma_Low_Energy, Transfer_Sigmav_Low_Energy,  Integrand_Normalized_SigmaV, sigv_integrand_low\n",
    "from scipy.optimize import minimize\n",
    "import emcee\n",
    "from Constants import c"
   ]
  },
  {
   "cell_type": "code",
   "execution_count": 8,
   "metadata": {},
   "outputs": [],
   "source": [
    "from scipy.integrate import quad\n",
    "\n",
    "def Normalized_SigmaV2(v0, g, M, m):\n",
    "    alpha = g**2/(4*np.pi)\n",
    "    w = 300*(M/10)*(10/m)\n",
    "\n",
    "\n",
    "    sigma0T = 137.86*(alpha/0.01)**2*(m/10)*(10/M)**4\n",
    "    sigmaT = lambda v: 4*w**4/v**4 * (np.log(1 + v**2/(w**2)) - (v/w)**2/(1 + (v/w)**2) )\n",
    "\n",
    "    sigma2_MB = v0**2*np.pi*(3*np.pi - 8)/np.pi\n",
    "    vmax = 2*np.sqrt(sigma2_MB)\n",
    "    integrand = lambda v: sigmaT(v)*(v/v0)*np.exp(-0.5*v**2/v0**2)*(v/v0)**2\n",
    "\n",
    "\n",
    "    Prefactor = 4*np.pi*sigma0T/((2*np.pi)**1.5 )\n",
    "    Integral = Prefactor*quad(integrand, 0.01, vmax)[0]\n",
    "\n",
    "    \n",
    "    return Integral\n"
   ]
  },
  {
   "cell_type": "code",
   "execution_count": 15,
   "metadata": {},
   "outputs": [
    {
     "data": {
      "image/png": "[encoded data removed]",
      "text/plain": [
       "<Figure size 640x480 with 1 Axes>"
      ]
     },
     "metadata": {},
     "output_type": "display_data"
    }
   ],
   "source": [
    "import matplotlib.pyplot as plt\n",
    "\n",
    "\n",
    "v_array = np.logspace(1, 4, 100)\n",
    "gprime = 0.04\n",
    "mPhi = 10\n",
    "mX = 10\n",
    "\n",
    "\n",
    "\n",
    "#crossSection_array = [Transfer_Sigma_Low_Energy(v/c, g=gprime, M = 0.009, m=mX) for v in v_array] \n",
    "#normalized_cross_section_array = [Normalized_Transer(v, g = gprime, M = mPhi, m =mX) for v in v_array]\n",
    "\n",
    "crossSection_array = [Transfer_SigmaV(v, g=gprime, M=mPhi/1000, m = mX) for v in v_array]\n",
    "normalized_cross_section_array = [Normalized_SigmaV2(v, g=gprime, M=mPhi, m = mX) for v in v_array]\n",
    "#PP_crosssection_array = [Transfer_SigmaV(v, g=gprime, M=mPhi, m=mX) for v in v_array]\n",
    "\n",
    "\n",
    "plt.plot(v_array, crossSection_array)\n",
    "plt.plot(v_array, normalized_cross_section_array, '.')\n",
    "#plt.plot(v_array, PP_crosssection_array, '.')\n",
    "\n",
    "\n",
    "\n",
    "plt.xlim([10, 5000])\n",
    "plt.xscale('log')\n",
    "plt.yscale('log')\n",
    "plt.ylabel('Transfer Cross Section')\n",
    "plt.xlabel('velocity')\n",
    "plt.show()"
   ]
  },
  {
   "cell_type": "markdown",
   "metadata": {},
   "source": [
    "### Datos"
   ]
  },
  {
   "cell_type": "markdown",
   "metadata": {},
   "source": [
    "Datos Camila"
   ]
  },
  {
   "cell_type": "code",
   "execution_count": 10,
   "metadata": {},
   "outputs": [],
   "source": [
    "CamilaData_Fig7 = np.loadtxt('Data-Sets/Data_Fig7_Correa_2021.txt')\n",
    "VelocityData = CamilaData_Fig7[:,0]\n",
    "Velocity_16_Percentile = CamilaData_Fig7[:,1]\n",
    "Velocity_84_Percentile = CamilaData_Fig7[:,2]\n",
    "VelocityData_Err = ( (VelocityData - Velocity_16_Percentile) + (Velocity_84_Percentile - VelocityData) ) /2\n",
    "\n",
    "CrossSectionData = CamilaData_Fig7[:,3]\n",
    "CrossSectionData_16_Percentile = CamilaData_Fig7[:,4]\n",
    "CrossSectionData_84_Percentile = CamilaData_Fig7[:,5]\n",
    "\n",
    "CrossSectionData_Err = ((CrossSectionData - CrossSectionData_16_Percentile) + (CrossSectionData_84_Percentile - CrossSectionData) )/2\n"
   ]
  },
  {
   "cell_type": "markdown",
   "metadata": {},
   "source": [
    "Datos Yu-Tulin"
   ]
  },
  {
   "cell_type": "code",
   "execution_count": 11,
   "metadata": {},
   "outputs": [],
   "source": [
    "# For the fit\n",
    "OrderedData = np.loadtxt('Data-Sets/Datos_ordenados.csv')\n",
    "x_data = OrderedData[:,0]\n",
    "y_data = OrderedData[:,1]\n",
    "err_x_data = OrderedData[:,2]\n",
    "err_y_data = OrderedData[:,3]\n"
   ]
  },
  {
   "cell_type": "markdown",
   "metadata": {},
   "source": [
    "### Models"
   ]
  },
  {
   "cell_type": "code",
   "execution_count": 12,
   "metadata": {},
   "outputs": [],
   "source": [
    "\n",
    "\n",
    "\"\"\"\n",
    "////////////// Functions for the Fit //////////////////\n",
    "\"\"\"\n",
    "#Useful functions to use emcee\n",
    "class mcmc_res:\n",
    "    def __init__(self, sampler, x0=None):\n",
    "        self.sampler = sampler\n",
    "        self.flat_samples = sampler.get_chain(discard=100, thin=15, flat=True)\n",
    "        self.x = []\n",
    "        self.x_low = []\n",
    "        self.x_high = []\n",
    "        self.ndim = self.flat_samples.shape[1]\n",
    "        for i in range(self.ndim):\n",
    "            mcmc = np.percentile(self.flat_samples[:, i], [16, 50, 84])\n",
    "            q = np.diff(mcmc)\n",
    "            self.x.append(mcmc[1])\n",
    "            self.x_low.append(q[0])\n",
    "            self.x_high.append(q[1])\n",
    "        self.x0 = x0\n",
    "        self.nonmarg_bestfit = sampler.flatchain[np.argmin(sampler.flatlnprobability)]\n",
    "        \n",
    "def run_mcmc(func_chi2, x0=None, bounds=None, nstep=5000, args=()):    \n",
    "    assert x0 is not None, 'please, provide a first guess of the parameter values'\n",
    "    assert bounds is not None, 'please, provide the boundaries of the parameter hyperspace'    \n",
    "    def log_prior(theta, bounds):\n",
    "        theta_l = list(theta)\n",
    "        for i, pp in enumerate(theta_l):\n",
    "            if (pp < bounds[i][0]) | (pp > bounds[i][1]):\n",
    "                return -np.inf\n",
    "        return 0    \n",
    "    def log_likelihood(theta, *args):\n",
    "        return -0.5 * func_chi2(theta, *args)    \n",
    "    def log_probability(theta, *args):\n",
    "        lp = log_prior(theta, bounds)\n",
    "        if not np.isfinite(lp):\n",
    "            return -np.inf\n",
    "        return lp + log_likelihood(theta, *args)    \n",
    "    #import emcee    \n",
    "    ndim = len(x0)\n",
    "    nwalkers = 4 * ndim    \n",
    "    pos = x0 + 1e-4 * np.random.randn(nwalkers, ndim)    \n",
    "    sampler = emcee.EnsembleSampler(nwalkers, ndim, log_probability, args=args)\n",
    "    sampler.run_mcmc(pos, nstep, progress=True)    \n",
    "    result = mcmc_res(sampler, x0=x0) \n",
    "    # Autocorrelation time\n",
    "    #tau = sampler.get_autocorr_time()\n",
    "    #print(tau)\n",
    "    return result"
   ]
  },
  {
   "cell_type": "code",
   "execution_count": 13,
   "metadata": {},
   "outputs": [],
   "source": [
    "# Define a chi square distribution to use as input in emcee\n",
    "def compute_chi2(free_params, x=VelocityData, data=CrossSectionData, err=(VelocityData_Err, CrossSectionData_Err)):\n",
    "    #Compute model\n",
    "    M, m = free_params\n",
    "    model = [Normalized_SigmaV2(x, gprime, M, m) for x in x]\n",
    "\n",
    "    errx, erry = err\n",
    "    #chi2 computation\n",
    "    chi2y= np.sum((data-model)**2/erry**2)\n",
    "    chi2x= np.sum((x - 2*x*np.sqrt(2/np.pi))**2/errx**2)\n",
    "    return chi2y + chi2x\n",
    "\n",
    "def compute_particle_chi2(free_params, x=VelocityData, data=CrossSectionData, err=(VelocityData_Err, CrossSectionData_Err)):\n",
    "    #Compute model\n",
    "    M, m = free_params\n",
    "    model = [Transfer_SigmaV(x, gprime, M, m) for x in x]\n",
    "\n",
    "    errx, erry = err\n",
    "    #chi2 computation\n",
    "    chi2y= np.sum((data-model)**2/erry**2)\n",
    "    chi2x= np.sum((x - 2*x*np.sqrt(2/np.pi))**2/errx**2)\n",
    "    return chi2y + chi2x"
   ]
  },
  {
   "cell_type": "markdown",
   "metadata": {},
   "source": [
    "## Fits"
   ]
  },
  {
   "cell_type": "markdown",
   "metadata": {},
   "source": [
    "### Fits with Camila Data"
   ]
  },
  {
   "cell_type": "markdown",
   "metadata": {},
   "source": [
    "Fits for Transfer Cross section"
   ]
  },
  {
   "cell_type": "code",
   "execution_count": 14,
   "metadata": {},
   "outputs": [
    {
     "name": "stderr",
     "output_type": "stream",
     "text": [
      "  2%|▏         | 100/5000 [00:09<02:23, 34.03it/s]C:\\Users\\Nicolás\\AppData\\Local\\Temp\\ipykernel_32036\\1971290827.py:17: IntegrationWarning: The maximum number of subdivisions (50) has been achieved.\n",
      "  If increasing the limit yields no improvement it is advised to analyze \n",
      "  the integrand in order to determine the difficulties.  If the position of a \n",
      "  local difficulty can be determined (singularity, discontinuity) one will \n",
      "  probably gain from splitting up the interval and calling the integrator \n",
      "  on the subranges.  Perhaps a special-purpose integrator should be used.\n",
      "  Integral = Prefactor*quad(integrand, 0.01, vmax)[0]\n",
      "100%|██████████| 5000/5000 [01:03<00:00, 78.84it/s] \n"
     ]
    },
    {
     "data": {
      "text/plain": [
       "[1.298379806849513, 3.202577722561431]"
      ]
     },
     "execution_count": 14,
     "metadata": {},
     "output_type": "execute_result"
    }
   ],
   "source": [
    "data_args = (VelocityData, CrossSectionData, (VelocityData_Err, CrossSectionData_Err))\n",
    "M_ini, m_ini = .01, 10\n",
    "initial = [M_ini, m_ini]\n",
    "bnds= [(0.001, 1000), (.1, 1000)]\n",
    "\n",
    "\n",
    "bf_Norm = run_mcmc(compute_chi2, x0=initial, bounds=bnds)\n",
    "\n",
    "bf_Norm.x"
   ]
  },
  {
   "cell_type": "markdown",
   "metadata": {},
   "source": [
    "Fits for Transfer Cross section from PP"
   ]
  },
  {
   "cell_type": "code",
   "execution_count": 16,
   "metadata": {},
   "outputs": [
    {
     "name": "stderr",
     "output_type": "stream",
     "text": [
      "  1%|▏         | 70/5000 [00:06<10:01,  8.19it/s]d:\\Nicolás\\Documents\\Research\\Pre-Prints\\Leptophilic-Atlas\\Leptophilic-Atlas-Repo\\Leptophilic-Atlas-Repo\\CrossSections.py:181: IntegrationWarning: The integral is probably divergent, or slowly convergent.\n",
      "  Integral = quad(Transfer_SigV_integrand, 0.0, vmax, args=(v0, g, M, m))[0]\n",
      "  1%|▏         | 72/5000 [00:08<24:59,  3.29it/s]d:\\Nicolás\\Documents\\Research\\Pre-Prints\\Leptophilic-Atlas\\Leptophilic-Atlas-Repo\\Leptophilic-Atlas-Repo\\CrossSections.py:181: IntegrationWarning: The maximum number of subdivisions (50) has been achieved.\n",
      "  If increasing the limit yields no improvement it is advised to analyze \n",
      "  the integrand in order to determine the difficulties.  If the position of a \n",
      "  local difficulty can be determined (singularity, discontinuity) one will \n",
      "  probably gain from splitting up the interval and calling the integrator \n",
      "  on the subranges.  Perhaps a special-purpose integrator should be used.\n",
      "  Integral = quad(Transfer_SigV_integrand, 0.0, vmax, args=(v0, g, M, m))[0]\n",
      " 38%|███▊      | 1901/5000 [05:32<07:18,  7.06it/s] d:\\Nicolás\\Documents\\Research\\Pre-Prints\\Leptophilic-Atlas\\Leptophilic-Atlas-Repo\\Leptophilic-Atlas-Repo\\CrossSections.py:181: IntegrationWarning: The occurrence of roundoff error is detected, which prevents \n",
      "  the requested tolerance from being achieved.  The error may be \n",
      "  underestimated.\n",
      "  Integral = quad(Transfer_SigV_integrand, 0.0, vmax, args=(v0, g, M, m))[0]\n",
      "100%|██████████| 5000/5000 [12:56<00:00,  6.44it/s]\n"
     ]
    },
    {
     "data": {
      "text/plain": [
       "[0.05084604447389779, 10.005926899868637]"
      ]
     },
     "execution_count": 16,
     "metadata": {},
     "output_type": "execute_result"
    }
   ],
   "source": [
    "data_args = (VelocityData, CrossSectionData, (VelocityData_Err, CrossSectionData_Err))\n",
    "M_ini, m_ini = .01, 10\n",
    "initial = [M_ini, m_ini]\n",
    "bnds= [(0.001, 1000), (.1, 1000)]\n",
    "\n",
    "\n",
    "bf_Part = run_mcmc(compute_particle_chi2, x0=initial, bounds=bnds, args=data_args)\n",
    "\n",
    "bf_Part.x"
   ]
  },
  {
   "cell_type": "markdown",
   "metadata": {},
   "source": [
    "import corner\n",
    "\n",
    "truth = bfY.x\n",
    "labels = ['M', 'm']\n",
    "bounds = bnds\n",
    "\n",
    "figure = corner.corner(\n",
    "            bfY.flat_samples, labels=labels, title_kwargs={\"fontsize\": 12}, \n",
    "            label_kwargs={\"fontsize\": 12}, smooth=2, smooth1d=2, truths=truth,\n",
    "            range=bounds, color='royalblue',\n",
    "            levels=(0.39,0.68), plot_datapoints=False, show_titles=True\n",
    "        )"
   ]
  },
  {
   "cell_type": "markdown",
   "metadata": {},
   "source": [
    "### Fits with Yu Data"
   ]
  },
  {
   "cell_type": "code",
   "execution_count": 17,
   "metadata": {},
   "outputs": [
    {
     "name": "stderr",
     "output_type": "stream",
     "text": [
      "  5%|▍         | 231/5000 [00:36<05:34, 14.27it/s]C:\\Users\\Nicolás\\AppData\\Local\\Temp\\ipykernel_32036\\1971290827.py:17: IntegrationWarning: The maximum number of subdivisions (50) has been achieved.\n",
      "  If increasing the limit yields no improvement it is advised to analyze \n",
      "  the integrand in order to determine the difficulties.  If the position of a \n",
      "  local difficulty can be determined (singularity, discontinuity) one will \n",
      "  probably gain from splitting up the interval and calling the integrator \n",
      "  on the subranges.  Perhaps a special-purpose integrator should be used.\n",
      "  Integral = Prefactor*quad(integrand, 0.01, vmax)[0]\n",
      "  5%|▌         | 256/5000 [00:37<04:03, 19.50it/s]C:\\Users\\Nicolás\\AppData\\Local\\Temp\\ipykernel_32036\\1971290827.py:17: IntegrationWarning: The occurrence of roundoff error is detected, which prevents \n",
      "  the requested tolerance from being achieved.  The error may be \n",
      "  underestimated.\n",
      "  Integral = Prefactor*quad(integrand, 0.01, vmax)[0]\n",
      "100%|██████████| 5000/5000 [04:16<00:00, 19.52it/s]\n"
     ]
    },
    {
     "data": {
      "text/plain": [
       "[1.9255362050005256, 1.146816433167123]"
      ]
     },
     "execution_count": 17,
     "metadata": {},
     "output_type": "execute_result"
    }
   ],
   "source": [
    "\n",
    "data_args = (x_data, y_data, (err_x_data, err_y_data))\n",
    "\n",
    "M_ini, m_ini = 0.01, 100\n",
    "initial = [M_ini, m_ini]\n",
    "bnds= [(0.001, 100), (.01, 1000)]\n",
    "\n",
    "\n",
    "bf_Yu = run_mcmc(compute_chi2, x0=initial, bounds=bnds, args=data_args)\n",
    "\n",
    "bf_Yu.x"
   ]
  },
  {
   "cell_type": "code",
   "execution_count": 18,
   "metadata": {},
   "outputs": [
    {
     "name": "stderr",
     "output_type": "stream",
     "text": [
      "  2%|▏         | 87/5000 [00:49<48:30,  1.69it/s]  d:\\Nicolás\\Documents\\Research\\Pre-Prints\\Leptophilic-Atlas\\Leptophilic-Atlas-Repo\\Leptophilic-Atlas-Repo\\CrossSections.py:181: IntegrationWarning: The maximum number of subdivisions (50) has been achieved.\n",
      "  If increasing the limit yields no improvement it is advised to analyze \n",
      "  the integrand in order to determine the difficulties.  If the position of a \n",
      "  local difficulty can be determined (singularity, discontinuity) one will \n",
      "  probably gain from splitting up the interval and calling the integrator \n",
      "  on the subranges.  Perhaps a special-purpose integrator should be used.\n",
      "  Integral = quad(Transfer_SigV_integrand, 0.0, vmax, args=(v0, g, M, m))[0]\n",
      "  2%|▏         | 97/5000 [00:54<37:15,  2.19it/s]d:\\Nicolás\\Documents\\Research\\Pre-Prints\\Leptophilic-Atlas\\Leptophilic-Atlas-Repo\\Leptophilic-Atlas-Repo\\CrossSections.py:181: IntegrationWarning: The occurrence of roundoff error is detected, which prevents \n",
      "  the requested tolerance from being achieved.  The error may be \n",
      "  underestimated.\n",
      "  Integral = quad(Transfer_SigV_integrand, 0.0, vmax, args=(v0, g, M, m))[0]\n",
      "100%|██████████| 5000/5000 [26:12<00:00,  3.18it/s]\n"
     ]
    },
    {
     "data": {
      "text/plain": [
       "[0.0019256483281413727, 1.1465385394722207]"
      ]
     },
     "execution_count": 18,
     "metadata": {},
     "output_type": "execute_result"
    }
   ],
   "source": [
    "M_ini, m_ini = .01, 10\n",
    "initial = [M_ini, m_ini]\n",
    "bnds= [(0.001, 1000), (.1, 1000)]\n",
    "\n",
    "\n",
    "bf_Yu_Part = run_mcmc(compute_particle_chi2, x0=initial, bounds=bnds, args=data_args)\n",
    "\n",
    "bf_Yu_Part.x"
   ]
  }
 ],
 "metadata": {
  "kernelspec": {
   "display_name": "base",
   "language": "python",
   "name": "python3"
  },
  "language_info": {
   "codemirror_mode": {
    "name": "ipython",
    "version": 3
   },
   "file_extension": ".py",
   "mimetype": "text/x-python",
   "name": "python",
   "nbconvert_exporter": "python",
   "pygments_lexer": "ipython3",
   "version": "3.10.9"
  }
 },
 "nbformat": 4,
 "nbformat_minor": 2
}
