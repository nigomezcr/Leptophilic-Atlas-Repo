{
 "cells": [
  {
   "cell_type": "code",
   "execution_count": 80,
   "metadata": {},
   "outputs": [
    {
     "ename": "NameError",
     "evalue": "name 'Mplanck' is not defined",
     "output_type": "error",
     "traceback": [
      "\u001b[1;31m---------------------------------------------------------------------------\u001b[0m",
      "\u001b[1;31mNameError\u001b[0m                                 Traceback (most recent call last)",
      "Cell \u001b[1;32mIn[80], line 40\u001b[0m\n\u001b[0;32m     37\u001b[0m mDM_array \u001b[38;5;241m=\u001b[39m np\u001b[38;5;241m.\u001b[39mlogspace(\u001b[38;5;241m2\u001b[39m, \u001b[38;5;241m3\u001b[39m, \u001b[38;5;241m100\u001b[39m)\n\u001b[0;32m     38\u001b[0m σv \u001b[38;5;241m=\u001b[39m \u001b[38;5;241m1e-9\u001b[39m\n\u001b[1;32m---> 40\u001b[0m RD_array \u001b[38;5;241m=\u001b[39m [RelicDensity(mDM, σv, Mp\u001b[38;5;241m=\u001b[39mMplanck) \u001b[38;5;28;01mfor\u001b[39;00m mDM \u001b[38;5;129;01min\u001b[39;00m mDM_array]\n\u001b[0;32m     41\u001b[0m plt\u001b[38;5;241m.\u001b[39mloglog(mDM_array, RD_array)\n\u001b[0;32m     42\u001b[0m plt\u001b[38;5;241m.\u001b[39mshow()\n",
      "Cell \u001b[1;32mIn[80], line 40\u001b[0m, in \u001b[0;36m<listcomp>\u001b[1;34m(.0)\u001b[0m\n\u001b[0;32m     37\u001b[0m mDM_array \u001b[38;5;241m=\u001b[39m np\u001b[38;5;241m.\u001b[39mlogspace(\u001b[38;5;241m2\u001b[39m, \u001b[38;5;241m3\u001b[39m, \u001b[38;5;241m100\u001b[39m)\n\u001b[0;32m     38\u001b[0m σv \u001b[38;5;241m=\u001b[39m \u001b[38;5;241m1e-9\u001b[39m\n\u001b[1;32m---> 40\u001b[0m RD_array \u001b[38;5;241m=\u001b[39m [RelicDensity(mDM, σv, Mp\u001b[38;5;241m=\u001b[39m\u001b[43mMplanck\u001b[49m) \u001b[38;5;28;01mfor\u001b[39;00m mDM \u001b[38;5;129;01min\u001b[39;00m mDM_array]\n\u001b[0;32m     41\u001b[0m plt\u001b[38;5;241m.\u001b[39mloglog(mDM_array, RD_array)\n\u001b[0;32m     42\u001b[0m plt\u001b[38;5;241m.\u001b[39mshow()\n",
      "\u001b[1;31mNameError\u001b[0m: name 'Mplanck' is not defined"
     ]
    }
   ],
   "source": [
    "import numpy as np\n",
    "import matplotlib.pyplot as plt\n",
    "from scipy.integrate import odeint\n",
    "\n",
    "Mp=1.22E19\n",
    "\n",
    "DensityFactor = 1.5E8 # Product of s0/rho_c h^2\n",
    "\n",
    "def sigmaV_to_ZZ_Approx(g, m):\n",
    "    return g**4/(16*np.pi*m**2)\n",
    "\n",
    "\n",
    "\n",
    "def gs_to_half(T):\n",
    "    a, b, c = 10.2, 2.349, 0.252\n",
    "    return a/(1 + np.exp( -b*(T - c)))\n",
    "\n",
    "def Yeq(x):\n",
    "    return 0.145*x**1.5*np.exp(-x)\n",
    "\n",
    "X =np.logspace(np.log10(1),np.log10(100), int(1e4))\n",
    "\n",
    "def dYdx(Y, x, σv, m, Mp):\n",
    "    return - np.sqrt(np.pi/45)* Mp * m * σv * gs_to_half(m/x)/x**2 * (Y**2-Yeq(x)**2) \n",
    "\n",
    "def Y(x, m, σv, Mp):\n",
    "    \n",
    "    return odeint(dYdx, Yeq(x[0]), x, args=(σv, m, Mp), mxstep=100)\n",
    "\n",
    "def Yinf(m, σv, Mp):\n",
    "    return Y(X, m, σv, Mp)[-1,0]\n",
    "\n",
    "def RelicDensity(m, σv, Mp):\n",
    "    return DensityFactor*Yinf(m, σv, Mp)*m\n",
    "\n",
    "\n",
    "mDM_array = np.logspace(2, 3, 100)\n",
    "σv = 1e-9\n",
    "\n",
    "RD_array = [RelicDensity(mDM, σv, Mp=Mplanck) for mDM in mDM_array]\n",
    "plt.loglog(mDM_array, RD_array)\n",
    "plt.show()\n",
    "\n"
   ]
  },
  {
   "cell_type": "markdown",
   "metadata": {},
   "source": [
    "Assymetric DM"
   ]
  },
  {
   "cell_type": "code",
   "execution_count": 101,
   "metadata": {},
   "outputs": [
    {
     "name": "stderr",
     "output_type": "stream",
     "text": [
      "c:\\Users\\Nicolás\\miniconda3\\lib\\site-packages\\scipy\\integrate\\_odepack_py.py:248: ODEintWarning: Repeated convergence failures (perhaps bad Jacobian or tolerances). Run with full_output = 1 to get quantitative information.\n",
      "  warnings.warn(warning_msg, ODEintWarning)\n"
     ]
    },
    {
     "data": {
      "image/png": "[encoded data removed]",
      "text/plain": [
       "<Figure size 640x480 with 1 Axes>"
      ]
     },
     "metadata": {},
     "output_type": "display_data"
    }
   ],
   "source": [
    "mX = 100\n",
    "σv = 1e-8\n",
    "\n",
    "X =np.logspace(np.log10(1),np.log10(30), int(1e6))    \n",
    "\n",
    "def dYdx(Y, x, σv, m):\n",
    "    Yp, Ym = Y\n",
    "    lam = 0.264*Mp*m*σv\n",
    "    dydx = - lam/x**2 *gs_to_half(m/x) * (Yp*Ym - Yeq(x)**2)\n",
    "    return [dydx, dydx]\n",
    "\n",
    "def Boltzmann_equations(x, σv, m):\n",
    "    Yp0 = 1*Yeq(x[0])\n",
    "    Ym0 = (Yeq(x[0]) - Yp0)\n",
    "    Y0 = [Yp0,Ym0]\n",
    "    return odeint(dYdx, Y0, x, args=(σv, m))\n",
    "\n",
    "\n",
    "\n",
    "def OmegaChi(x, σv, m):\n",
    "    Yp = Boltzmann_equations(x, σv, m)[-1, 0]\n",
    "    return Yp*m*DensityFactor\n",
    "\n",
    "def OmegaChiBar(x, σv, m):\n",
    "    Ym = Boltzmann_equations(x, σv, m)[-1, 1]\n",
    "    return Ym*m*DensityFactor\n",
    "\n",
    "\n",
    "def OmegaDM(x, σv, m):\n",
    "    return OmegaChi(x, σv, m) + OmegaChiBar(x, σv, m)\n",
    "\n",
    "def Plot_Yields(x=X, σv=σv, m=mX):\n",
    "\n",
    "    Yp = Boltzmann_equations(X, σv, m)[:,0]\n",
    "    Ym = Boltzmann_equations(X, σv, m)[:,1]\n",
    "    Ochi = OmegaChi(X, σv, m)\n",
    "    OchiBar = OmegaChiBar(X, σv, m)\n",
    "\n",
    "    plt.loglog(X, Yeq(X), 'k--')\n",
    "    plt.plot(X, Yp, label=r'$\\Omega_{{\\chi}} = {}$'.format( round(Ochi, 2 )))\n",
    "    plt.plot(X, Ym, label=r'$\\Omega_{{\\bar{{\\chi}} }} ={}$'.format( round(OchiBar, 2 ) )) \n",
    "    plt.xlabel('x')\n",
    "    plt.ylabel('Y(x)')\n",
    "    plt.legend(loc=3)\n",
    "    plt.ylim([1e-10, 1])\n",
    "    plt.show()\n",
    "\n",
    "\n",
    "\n",
    "def Plot_Densities(x=X,  σv=σv):\n",
    "\n",
    "    mDM_array = np.logspace(-1, 3, 100)\n",
    "\n",
    "    Ochi = [OmegaChi(X,  σv, m) for m in mDM_array]\n",
    "    OchiBar = [OmegaChiBar(X,  σv, m) for m in mDM_array]\n",
    "\n",
    "    plt.loglog(mDM_array, Ochi, label=r'$\\Omega_{\\chi}$')\n",
    "    plt.loglog(mDM_array, OchiBar, label=r'$\\Omega_{\\bar{\\chi}}$')\n",
    "    plt.xlabel('m')\n",
    "    plt.ylabel('O(x)')\n",
    "    plt.legend(loc=3)\n",
    "    plt.ylim([1e-4, 1e4])\n",
    "    plt.show()\n",
    "\n",
    "Plot_Densities(σv=1e-8)\n"
   ]
  },
  {
   "cell_type": "code",
   "execution_count": 82,
   "metadata": {},
   "outputs": [
    {
     "data": {
      "text/plain": [
       "[480082.6855620121,\n",
       " 1335858.5508763636,\n",
       " 3717105.794422417,\n",
       " 10343067.631624905,\n",
       " 28780199.999218956,\n",
       " 80082618.4077309,\n",
       " 222834636.2338112,\n",
       " 620050613.5425252,\n",
       " 1725327661.8928194,\n",
       " 4800827125.958097]"
      ]
     },
     "execution_count": 82,
     "metadata": {},
     "output_type": "execute_result"
    }
   ],
   "source": [
    "mDM_array = np.logspace(-1, 3, 10)\n",
    "\n",
    "Ochi = [OmegaChi(X,  σv, m) for m in mDM_array]\n",
    "Ochi"
   ]
  },
  {
   "cell_type": "markdown",
   "metadata": {},
   "source": [
    "Approx analytical solution"
   ]
  },
  {
   "cell_type": "code",
   "execution_count": 102,
   "metadata": {},
   "outputs": [
    {
     "ename": "SyntaxError",
     "evalue": "invalid syntax (387779617.py, line 9)",
     "output_type": "error",
     "traceback": [
      "\u001b[1;36m  Cell \u001b[1;32mIn[102], line 9\u001b[1;36m\u001b[0m\n\u001b[1;33m    denom = 1 -  (1 - sign*etaX/ )\u001b[0m\n\u001b[1;37m                                 ^\u001b[0m\n\u001b[1;31mSyntaxError\u001b[0m\u001b[1;31m:\u001b[0m invalid syntax\n"
     ]
    }
   ],
   "source": [
    "def xf(m, σ0, etaX): \n",
    "    a = 0.145\n",
    "    lam = 0.264*Mp*m*σ0\n",
    "    gs = gs_to_half(m/10)\n",
    "    logterm = np.log( gs* a* lam)**2 / (np.log(gs*a*lam)**4 - gs**2 * lam**2 * (etaX/2)**2 )\n",
    "    return np.log(gs*a*lam) + 0.5*np.log( logterm )\n",
    "\n",
    "def Yinf(m, σ0, etaX, sign=1, ): \n",
    "    denom = 1 -  (1 - sign*etaX/ )"
   ]
  },
  {
   "cell_type": "code",
   "execution_count": null,
   "metadata": {},
   "outputs": [],
   "source": []
  },
  {
   "cell_type": "code",
   "execution_count": null,
   "metadata": {},
   "outputs": [],
   "source": []
  }
 ],
 "metadata": {
  "kernelspec": {
   "display_name": "base",
   "language": "python",
   "name": "python3"
  },
  "language_info": {
   "codemirror_mode": {
    "name": "ipython",
    "version": 3
   },
   "file_extension": ".py",
   "mimetype": "text/x-python",
   "name": "python",
   "nbconvert_exporter": "python",
   "pygments_lexer": "ipython3",
   "version": "3.10.9"
  }
 },
 "nbformat": 4,
 "nbformat_minor": 2
}
