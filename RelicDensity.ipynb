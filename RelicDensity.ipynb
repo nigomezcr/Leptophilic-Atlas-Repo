{
 "cells": [
  {
   "cell_type": "code",
   "execution_count": 13,
   "metadata": {},
   "outputs": [
    {
     "data": {
      "image/png": "[encoded data removed]",
      "text/plain": [
       "<Figure size 640x480 with 1 Axes>"
      ]
     },
     "metadata": {},
     "output_type": "display_data"
    }
   ],
   "source": [
    "import numpy as np\n",
    "import matplotlib.pyplot as plt\n",
    "from scipy.integrate import odeint\n",
    "\n",
    "Mplanck=1.22E19\n",
    "\n",
    "DensityFactor = 1.5E8 # Product of s0/rho_c h^2\n",
    "\n",
    "def sigmaV_to_ZZ_Approx(g, m):\n",
    "    return g**4/(16*np.pi*m**2)\n",
    "\n",
    "\n",
    "\n",
    "def gs_to_half(T):\n",
    "    a, b, c = 10.2, 2.349, 0.252\n",
    "    return a/(1 + np.exp( -b*(T - c)))\n",
    "\n",
    "def Yeq(x):\n",
    "    return 0.145*x**1.5*np.exp(-x)\n",
    "\n",
    "X =np.logspace(np.log10(1),np.log10(100), int(1e4))\n",
    "\n",
    "def dYdx(Y, x, σv, m, Mp):\n",
    "    return - np.sqrt(np.pi/45)* Mp * m * σv * gs_to_half(m/x)/x**2 * (Y**2-Yeq(x)**2) \n",
    "\n",
    "def Y(x, m, σv, Mp):\n",
    "    \n",
    "    return odeint(dYdx, Yeq(x[0]), x, args=(σv, m, Mp), mxstep=100)\n",
    "\n",
    "def Yinf(m, σv, Mp):\n",
    "    return Y(X, m, σv, Mp)[-1,0]\n",
    "\n",
    "def RelicDensity(m, σv, Mp):\n",
    "    return DensityFactor*Yinf(m, σv, Mp)*m\n",
    "\n",
    "\n",
    "mDM_array = np.logspace(2, 3, 100)\n",
    "σv = 1e-9\n",
    "\n",
    "RD_array = [RelicDensity(mDM, σv, Mp=Mplanck) for mDM in mDM_array]\n",
    "plt.loglog(mDM_array, RD_array)\n",
    "plt.show()\n",
    "\n"
   ]
  },
  {
   "cell_type": "code",
   "execution_count": null,
   "metadata": {},
   "outputs": [],
   "source": []
  }
 ],
 "metadata": {
  "kernelspec": {
   "display_name": "base",
   "language": "python",
   "name": "python3"
  },
  "language_info": {
   "codemirror_mode": {
    "name": "ipython",
    "version": 3
   },
   "file_extension": ".py",
   "mimetype": "text/x-python",
   "name": "python",
   "nbconvert_exporter": "python",
   "pygments_lexer": "ipython3",
   "version": "3.10.9"
  }
 },
 "nbformat": 4,
 "nbformat_minor": 2
}
