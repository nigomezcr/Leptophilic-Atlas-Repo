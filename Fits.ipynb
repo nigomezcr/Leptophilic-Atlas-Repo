{
 "cells": [
  {
   "cell_type": "code",
   "execution_count": 4,
   "metadata": {},
   "outputs": [],
   "source": [
    "import numpy as np\n",
    "from CrossSections import Transfer_SigmaV, Transfer_sigma\n",
    "from scipy.optimize import minimize\n"
   ]
  },
  {
   "cell_type": "markdown",
   "metadata": {},
   "source": [
    "## Fits con Datos de Camila"
   ]
  },
  {
   "cell_type": "code",
   "execution_count": 5,
   "metadata": {},
   "outputs": [],
   "source": [
    "#Import Data from Camila Correa\n",
    "CamilaData_Fig6 = np.loadtxt('Data-Sets/Data_Fig6_Correa_2021.txt')\n",
    "\n",
    "VelocityData = CamilaData_Fig6[:,0]\n",
    "Velocity_16_Percentile = CamilaData_Fig6[:,1]\n",
    "Velocity_84_Percentile = CamilaData_Fig6[:,2]\n",
    "VelocityData_Err = ( (VelocityData - Velocity_16_Percentile) + (Velocity_84_Percentile - VelocityData) ) /2\n",
    "\n",
    "CrossSectionData = CamilaData_Fig6[:,3]\n",
    "CrossSectionData_16_Percentile = CamilaData_Fig6[:,4]\n",
    "CrossSectionData_84_Percentile = CamilaData_Fig6[:,5]\n",
    "\n",
    "CrossSectionData_Err = ((CrossSectionData - CrossSectionData_16_Percentile) + (CrossSectionData_84_Percentile - CrossSectionData) )/2\n"
   ]
  },
  {
   "cell_type": "code",
   "execution_count": 6,
   "metadata": {},
   "outputs": [],
   "source": [
    "def CamilaTranser(v, M, m):\n",
    "    alpha = 0.01\n",
    "    w = 300*(M/10)*(10/m)\n",
    "    sigma0T = 274.4*(alpha/0.01)**2*(m/10)*(10/M)**4\n",
    "    return sigma0T*4*w**4/v**4 * (2*np.log(1 + v**2/(2*w**2)) - np.log(1 + v**2/w**2) )\n",
    "\n",
    "\n",
    "# Define a chi square distribution to use as input in emcee\n",
    "def compute_chi2(free_params, x=VelocityData, data=CrossSectionData, err=(VelocityData_Err, CrossSectionData_Err)):\n",
    "    #Compute model\n",
    "    M, m = free_params\n",
    "    model = [CamilaTranser(x, M=M, m=m) for x in x]\n",
    "\n",
    "    errx, erry = err\n",
    "    #chi2 computation\n",
    "    chi2y= np.sum((data-model)**2/erry**2)\n",
    "    chi2x= np.sum((x - 2*x*np.sqrt(2/np.pi))**2/errx**2)\n",
    "    return chi2y #+ chi2x\n"
   ]
  },
  {
   "cell_type": "markdown",
   "metadata": {},
   "source": [
    "Fits for Figure 6"
   ]
  },
  {
   "cell_type": "code",
   "execution_count": 7,
   "metadata": {},
   "outputs": [
    {
     "name": "stdout",
     "output_type": "stream",
     "text": [
      "Best Fit Parameters\n",
      "M = 26.90 MeV\n",
      "m = 112.78 GeV\n",
      "Chi-squared: 22.40065400937851\n"
     ]
    }
   ],
   "source": [
    "\n",
    "M_ini, m_ini = 1, 10\n",
    "initial = [M_ini, m_ini]\n",
    "\n",
    "soln = minimize(compute_chi2, initial, method='Nelder-Mead')\n",
    "\n",
    "M_bf, m_bf = soln.x\n",
    "\n",
    "print(\"Best Fit Parameters\")\n",
    "print('M = {0:.2f} MeV'.format(M_bf))\n",
    "print('m = {0:.2f} GeV'.format(m_bf))\n",
    "print(\"Chi-squared:\", compute_chi2((M_bf, m_bf)))\n"
   ]
  },
  {
   "cell_type": "markdown",
   "metadata": {},
   "source": [
    "Fits for Figure 7:"
   ]
  },
  {
   "cell_type": "code",
   "execution_count": 8,
   "metadata": {},
   "outputs": [],
   "source": [
    "CamilaData_Fig7 = np.loadtxt('Data-Sets/Data_Fig7_Correa_2021.txt')\n",
    "VelocityData = CamilaData_Fig7[:,0]\n",
    "Velocity_16_Percentile = CamilaData_Fig7[:,1]\n",
    "Velocity_84_Percentile = CamilaData_Fig7[:,2]\n",
    "VelocityData_Err = ( (VelocityData - Velocity_16_Percentile) + (Velocity_84_Percentile - VelocityData) ) /2\n",
    "\n",
    "CrossSectionData = CamilaData_Fig7[:,3]\n",
    "CrossSectionData_16_Percentile = CamilaData_Fig7[:,4]\n",
    "CrossSectionData_84_Percentile = CamilaData_Fig7[:,5]\n",
    "\n",
    "CrossSectionData_Err = ((CrossSectionData - CrossSectionData_16_Percentile) + (CrossSectionData_84_Percentile - CrossSectionData) )/2\n"
   ]
  },
  {
   "cell_type": "code",
   "execution_count": 9,
   "metadata": {},
   "outputs": [],
   "source": [
    "\n",
    "def Integrand_Camila_SigmaV(v, v0, M, m):\n",
    "    return CamilaTranser(v, M, m)*v*np.exp(-0.5*v**2/v0**2)*v**2\n",
    "\n",
    "from scipy.integrate import quad\n",
    "\n",
    "def Camila_SigmaV(v0, M, m):\n",
    "    sigma2_MB = v0**2*np.pi*(3*np.pi - 8)/np.pi\n",
    "    vmax = 2*np.sqrt(sigma2_MB)\n",
    "\n",
    "    Prefactor = 4*np.pi/((2*np.pi*v0**2)**1.5 * m)\n",
    "    Integral = quad(Integrand_Camila_SigmaV, 0.1, vmax, args=(v0, M, m))[0]\n",
    "    return Prefactor*Integral\n",
    "\n",
    "# Define a chi square distribution to use as input in emcee\n",
    "def compute_chi2(free_params, x=VelocityData, data=CrossSectionData, err=(VelocityData_Err, CrossSectionData_Err)):\n",
    "    #Compute model\n",
    "    M, m = free_params\n",
    "    model = [Camila_SigmaV(x, M, m) for x in x]\n",
    "\n",
    "    errx, erry = err\n",
    "    #chi2 computation\n",
    "    chi2y= np.sum((data-model)**2/erry**2)\n",
    "    chi2x= np.sum((x - 2*x*np.sqrt(2/np.pi))**2/errx**2)\n",
    "    return chi2y #+ chi2x"
   ]
  },
  {
   "cell_type": "code",
   "execution_count": 10,
   "metadata": {},
   "outputs": [
    {
     "name": "stdout",
     "output_type": "stream",
     "text": [
      "Best Fit Parameters\n",
      "M = 8.65 MeV\n",
      "m = 23.86 GeV\n",
      "Chi-squared: 22.281826735887343\n"
     ]
    }
   ],
   "source": [
    "soln = minimize(compute_chi2, initial, method='Nelder-Mead')\n",
    "\n",
    "M_bf, m_bf = soln.x\n",
    "\n",
    "print(\"Best Fit Parameters\")\n",
    "print('M = {0:.2f} MeV'.format(M_bf))\n",
    "print('m = {0:.2f} GeV'.format(m_bf))\n",
    "print(\"Chi-squared:\", compute_chi2((M_bf, m_bf)))"
   ]
  },
  {
   "cell_type": "markdown",
   "metadata": {},
   "source": [
    "## Fits con datos de Yu"
   ]
  },
  {
   "cell_type": "code",
   "execution_count": 11,
   "metadata": {},
   "outputs": [],
   "source": [
    "#for the plots\n",
    "DwarfData = np.loadtxt('Data-Sets/DwarfDataPlot.csv', delimiter='\\t')\n",
    "Dwarf_x =     DwarfData[:,0]\n",
    "Dwarf_y =     DwarfData[:,1]\n",
    "Dwarf_Err_l = DwarfData[:,2]\n",
    "Dwarf_Err_r = DwarfData[:,3]\n",
    "Dwarf_Err_d = DwarfData[:,4]\n",
    "Dwarf_Err_u = DwarfData[:,5]\n",
    "\n",
    "GalaxyData = np.loadtxt('Data-Sets/GalaxyDataPlot.csv', delimiter='\\t')\n",
    "Galaxy_x = GalaxyData[:,0]\n",
    "Galaxy_y = GalaxyData[:,1]\n",
    "Galaxy_Err_l = GalaxyData[:,2]\n",
    "Galaxy_Err_r = GalaxyData[:,3]\n",
    "Galaxy_Err_d = GalaxyData[:,4]\n",
    "Galaxy_Err_u = GalaxyData[:,5]\n",
    "\n",
    "ClusterData = np.loadtxt('Data-Sets/ClusterDataPlot.csv', delimiter='\\t')\n",
    "Cluster_x = ClusterData[:,0]\n",
    "Cluster_y = ClusterData[:,1]\n",
    "Cluster_Err_l = ClusterData[:,2]\n",
    "Cluster_Err_r = ClusterData[:,3]\n",
    "Cluster_Err_d = ClusterData[:,4]\n",
    "Cluster_Err_u = ClusterData[:,5]\n",
    "\n",
    "# For the fit\n",
    "OrderedData = np.loadtxt('Data-Sets/Datos_ordenados.csv')\n",
    "x_data = OrderedData[:,0]\n",
    "y_data = OrderedData[:,1]\n",
    "err_x_data = OrderedData[:,2]\n",
    "err_y_data = OrderedData[:,3]\n"
   ]
  },
  {
   "cell_type": "code",
   "execution_count": 12,
   "metadata": {},
   "outputs": [],
   "source": [
    "def NormalTranser(v, M, m):\n",
    "    alpha = 1/137\n",
    "    w = 300*(M/10)*(10/m)\n",
    "    sigma0T = 274.4*(alpha/0.01)**2*(m/10)*(10/M)**4\n",
    "    return sigma0T*4*w**4/v**4 * (np.log(1 + v**2/(w**2)) - (v/w)**2/(1 + (v/w)**2) )\n",
    "\n",
    "def Integrand_Normal_SigmaV(v, v0, M, m):\n",
    "    return NormalTranser(v, M, m)*v*np.exp(-0.5*v**2/v0**2)*v**2\n",
    "\n",
    "from scipy.integrate import quad\n",
    "\n",
    "def Normal_SigmaV(v0, M, m):\n",
    "    sigma2_MB = v0**2*np.pi*(3*np.pi - 8)/np.pi\n",
    "    vmax = 2*np.sqrt(sigma2_MB)\n",
    "\n",
    "    Prefactor = 4*np.pi/((2*np.pi*v0**2)**1.5 * m)\n",
    "    Integral = quad(Integrand_Normal_SigmaV, 0.0, vmax, args=(v0, M, m))[0]\n",
    "    return Prefactor*Integral"
   ]
  },
  {
   "cell_type": "code",
   "execution_count": 13,
   "metadata": {},
   "outputs": [
    {
     "name": "stdout",
     "output_type": "stream",
     "text": [
      "Best Fit Parameters\n",
      "M = 16.74 MeV\n",
      "m = 9.96 GeV\n",
      "Chi-squared: 1912472.709872893\n"
     ]
    }
   ],
   "source": [
    "\n",
    "M_ini, m_ini = 10, 10\n",
    "initial = [M_ini, m_ini]\n",
    "bnds= [(1, 1000), (0.01, 1000)]\n",
    "\n",
    "# Define a chi square distribution to use as input in emcee\n",
    "def compute_chi2(free_params, x=x_data, data=y_data, err=(err_x_data, err_y_data)):\n",
    "    #Compute model\n",
    "    M, m = free_params\n",
    "    model = [Normal_SigmaV(x, M=M, m=m) for x in x]\n",
    "\n",
    "    errx, erry = err\n",
    "    #chi2 computation\n",
    "    chi2y= np.sum((data-model)**2/erry**2)\n",
    "    chi2x= np.sum((x - 2*x*np.sqrt(2/np.pi))**2/errx**2)\n",
    "    return chi2y + chi2x\n",
    "\n",
    "soln = minimize(compute_chi2, initial, method='Nelder-Mead', bounds=bnds)\n",
    "\n",
    "M_bf, m_bf = soln.x\n",
    "\n",
    "print(\"Best Fit Parameters\")\n",
    "print('M = {0:.2f} MeV'.format(M_bf))\n",
    "print('m = {0:.2f} GeV'.format(m_bf))\n",
    "print(\"Chi-squared:\", compute_chi2((M_bf, m_bf)))\n"
   ]
  },
  {
   "cell_type": "markdown",
   "metadata": {},
   "source": [
    "Standard Cross Section but with Camila Data"
   ]
  },
  {
   "cell_type": "code",
   "execution_count": 14,
   "metadata": {},
   "outputs": [
    {
     "name": "stdout",
     "output_type": "stream",
     "text": [
      "Best Fit Parameters\n",
      "M = 8.80 MeV\n",
      "m = 20.76 GeV\n",
      "Chi-squared: 22.29372349282599\n"
     ]
    }
   ],
   "source": [
    "def compute_chi2(free_params, x=VelocityData, data=CrossSectionData, err=(VelocityData_Err, CrossSectionData_Err)):\n",
    "    #Compute model\n",
    "    M, m = free_params\n",
    "    model = [Normal_SigmaV(x, M=M, m=m) for x in x]\n",
    "\n",
    "    errx, erry = err\n",
    "    #chi2 computation\n",
    "    chi2y= np.sum((data-model)**2/erry**2)\n",
    "    chi2x= np.sum((x - 2*x*np.sqrt(2/np.pi))**2/errx**2)\n",
    "    return chi2y #+ chi2x\n",
    "\n",
    "\n",
    "M_ini, m_ini = 1, 10\n",
    "initial = [M_ini, m_ini]\n",
    "\n",
    "\n",
    "soln = minimize(compute_chi2, initial, method='Nelder-Mead')\n",
    "\n",
    "M_bf, m_bf = soln.x\n",
    "\n",
    "print(\"Best Fit Parameters\")\n",
    "print('M = {0:.2f} MeV'.format(M_bf))\n",
    "print('m = {0:.2f} GeV'.format(m_bf))\n",
    "print(\"Chi-squared:\", compute_chi2((M_bf, m_bf)))"
   ]
  },
  {
   "cell_type": "markdown",
   "metadata": {},
   "source": [
    "## Particle Physics Cross Section with Camila Data"
   ]
  },
  {
   "cell_type": "markdown",
   "metadata": {},
   "source": [
    "Data From Dwarfs"
   ]
  },
  {
   "cell_type": "code",
   "execution_count": 15,
   "metadata": {},
   "outputs": [],
   "source": [
    "#Import Data from Camila Correa\n",
    "CamilaData_Fig6 = np.loadtxt('Data-Sets/Data_Fig6_Correa_2021.txt')\n",
    "\n",
    "VelocityData = CamilaData_Fig6[:,0]\n",
    "Velocity_16_Percentile = CamilaData_Fig6[:,1]\n",
    "Velocity_84_Percentile = CamilaData_Fig6[:,2]\n",
    "VelocityData_Err = ( (VelocityData - Velocity_16_Percentile) + (Velocity_84_Percentile - VelocityData) ) /2\n",
    "\n",
    "CrossSectionData = CamilaData_Fig6[:,3]\n",
    "CrossSectionData_16_Percentile = CamilaData_Fig6[:,4]\n",
    "CrossSectionData_84_Percentile = CamilaData_Fig6[:,5]\n",
    "\n",
    "CrossSectionData_Err = ((CrossSectionData - CrossSectionData_16_Percentile) + (CrossSectionData_84_Percentile - CrossSectionData) )/2"
   ]
  },
  {
   "cell_type": "code",
   "execution_count": 16,
   "metadata": {},
   "outputs": [
    {
     "name": "stdout",
     "output_type": "stream",
     "text": [
      "Best Fit Parameters\n",
      "M = 9.97 MeV\n",
      "m = 10.59 GeV\n",
      "Chi-squared: 268.4677777740588\n"
     ]
    }
   ],
   "source": [
    "# Define a chi square distribution to use as input in emcee\n",
    "def compute_chi2(free_params, x=VelocityData, data=CrossSectionData, err=(VelocityData_Err, CrossSectionData_Err)):\n",
    "    #Compute model\n",
    "    M, m = free_params\n",
    "    model = [Transfer_sigma(x, g=0.3, M=M, m=m) for x in x]\n",
    "\n",
    "    errx, erry = err\n",
    "    #chi2 computation\n",
    "    chi2y= np.sum((data-model)**2/erry**2)\n",
    "    chi2x= np.sum((x - 2*x*np.sqrt(2/np.pi))**2/errx**2)\n",
    "    return chi2y #+ chi2x\n",
    "\n",
    "\n",
    "M_ini, m_ini = 10, 10\n",
    "initial = [M_ini, m_ini]\n",
    "bnds= [(1, 1000), (.01, 1000)]\n",
    "\n",
    "\n",
    "soln = minimize(compute_chi2, initial, method='Nelder-Mead', bounds=bnds)\n",
    "\n",
    "M_bf, m_bf = soln.x\n",
    "\n",
    "print(\"Best Fit Parameters\")\n",
    "print('M = {0:.2f} MeV'.format(M_bf))\n",
    "print('m = {0:.2f} GeV'.format(m_bf))\n",
    "print(\"Chi-squared:\", compute_chi2((M_bf, m_bf)))"
   ]
  },
  {
   "cell_type": "markdown",
   "metadata": {},
   "source": [
    "Data From clusters"
   ]
  },
  {
   "cell_type": "code",
   "execution_count": 17,
   "metadata": {},
   "outputs": [],
   "source": [
    "CamilaData_Fig7 = np.loadtxt('Data-Sets/Data_Fig7_Correa_2021.txt')\n",
    "VelocityData = CamilaData_Fig7[:,0]\n",
    "Velocity_16_Percentile = CamilaData_Fig7[:,1]\n",
    "Velocity_84_Percentile = CamilaData_Fig7[:,2]\n",
    "VelocityData_Err = ( (VelocityData - Velocity_16_Percentile) + (Velocity_84_Percentile - VelocityData) ) /2\n",
    "\n",
    "CrossSectionData = CamilaData_Fig7[:,3]\n",
    "CrossSectionData_16_Percentile = CamilaData_Fig7[:,4]\n",
    "CrossSectionData_84_Percentile = CamilaData_Fig7[:,5]\n",
    "\n",
    "CrossSectionData_Err = ((CrossSectionData - CrossSectionData_16_Percentile) + (CrossSectionData_84_Percentile - CrossSectionData) )/2\n"
   ]
  },
  {
   "cell_type": "code",
   "execution_count": 18,
   "metadata": {},
   "outputs": [
    {
     "name": "stderr",
     "output_type": "stream",
     "text": [
      "d:\\Nicolás\\Documents\\Research\\Pre-Prints\\Leptophilic-Atlas\\Leptophilic-Atlas-Repo\\Leptophilic-Atlas-Repo\\CrossSections.py:70: RuntimeWarning: invalid value encountered in log\n",
      "  sigma_t = Prefactor*( (s*v**2*(2*s + 3*M**2)+2*(M**2 + 2*m**2)**2)/(2*M**2*(M**2+s*v**2)) - (M**2 + s)/(s*v**2)*np.log(1 + s*v**2/M**2) )\n",
      "d:\\Nicolás\\Documents\\Research\\Pre-Prints\\Leptophilic-Atlas\\Leptophilic-Atlas-Repo\\Leptophilic-Atlas-Repo\\CrossSections.py:72: RuntimeWarning: invalid value encountered in log\n",
      "  sigma_st = -Prefactor/2*( (16*m**2+2*M**2+ 3*s*v**2)/(s-M**2) - (4*m**2 + 2*m**2*(4*M**2+3*s*v**2+s ) + (M**2+s*v**2)**2 )/(s*v**2*(s-M**2))*np.log(1 + s*v**2/M**2) )\n",
      "d:\\Nicolás\\Documents\\Research\\Pre-Prints\\Leptophilic-Atlas\\Leptophilic-Atlas-Repo\\Leptophilic-Atlas-Repo\\CrossSections.py:62: RuntimeWarning: invalid value encountered in log\n",
      "  return  fc*Prefactor*(Term1 + LogTerm1*np.log(1 + s*v**2/M**2) )\n",
      "d:\\Nicolás\\Documents\\Research\\Pre-Prints\\Leptophilic-Atlas\\Leptophilic-Atlas-Repo\\Leptophilic-Atlas-Repo\\CrossSections.py:156: IntegrationWarning: The occurrence of roundoff error is detected, which prevents \n",
      "  the requested tolerance from being achieved.  The error may be \n",
      "  underestimated.\n",
      "  Integral = quad(Transfer_SigV_integrand, 0.1, vmax, args=(v0, g, M, m))[0]\n"
     ]
    },
    {
     "name": "stdout",
     "output_type": "stream",
     "text": [
      "Best Fit Parameters\n",
      "M = 10.00 MeV\n",
      "m = 10.00 GeV\n",
      "Chi-squared: nan\n"
     ]
    }
   ],
   "source": [
    "# Define a chi square distribution to use as input in emcee\n",
    "def compute_chi2(free_params, x=VelocityData, data=CrossSectionData, err=(VelocityData_Err, CrossSectionData_Err)):\n",
    "    #Compute model\n",
    "    M, m = free_params\n",
    "    model = [Transfer_SigmaV(x, g=0.3, M=M, m=m) for x in x]\n",
    "\n",
    "    errx, erry = err\n",
    "    #chi2 computation\n",
    "    chi2y= np.sum((data-model)**2/erry**2)\n",
    "    chi2x= np.sum((x - 2*x*np.sqrt(2/np.pi))**2/errx**2)\n",
    "    return chi2y #+ chi2x\n",
    "\n",
    "\n",
    "M_ini, m_ini = 10, 10\n",
    "initial = [M_ini, m_ini]\n",
    "bnds= [(1, 1000), (.01, 1000)]\n",
    "\n",
    "\n",
    "soln = minimize(compute_chi2, initial, method='Nelder-Mead', bounds=bnds)\n",
    "\n",
    "M_bf, m_bf = soln.x\n",
    "\n",
    "print(\"Best Fit Parameters\")\n",
    "print('M = {0:.2f} MeV'.format(M_bf))\n",
    "print('m = {0:.2f} GeV'.format(m_bf))\n",
    "print(\"Chi-squared:\", compute_chi2((M_bf, m_bf)))"
   ]
  },
  {
   "cell_type": "markdown",
   "metadata": {},
   "source": [
    "## Plots"
   ]
  },
  {
   "cell_type": "code",
   "execution_count": 2,
   "metadata": {},
   "outputs": [
    {
     "data": {
      "image/png": "[encoded data removed]",
      "text/plain": [
       "<Figure size 640x480 with 1 Axes>"
      ]
     },
     "metadata": {},
     "output_type": "display_data"
    }
   ],
   "source": [
    "import matplotlib.pyplot as plt \n",
    "v_array = np.logspace(1, 3, 100)\n",
    "crossSection_array = [Transfer_sigma(v) for v in v_array]\n",
    "\n",
    "\n",
    "plt.plot(v_array, crossSection_array)\n",
    "\n",
    "\n",
    "plt.xscale('log')\n",
    "plt.yscale('log')\n",
    "plt.ylabel('Transfer Cross Section')\n",
    "plt.xlabel('velocity')\n",
    "plt.show()\n"
   ]
  },
  {
   "cell_type": "code",
   "execution_count": null,
   "metadata": {},
   "outputs": [],
   "source": []
  }
 ],
 "metadata": {
  "kernelspec": {
   "display_name": "base",
   "language": "python",
   "name": "python3"
  },
  "language_info": {
   "codemirror_mode": {
    "name": "ipython",
    "version": 3
   },
   "file_extension": ".py",
   "mimetype": "text/x-python",
   "name": "python",
   "nbconvert_exporter": "python",
   "pygments_lexer": "ipython3",
   "version": "3.10.9"
  }
 },
 "nbformat": 4,
 "nbformat_minor": 2
}
