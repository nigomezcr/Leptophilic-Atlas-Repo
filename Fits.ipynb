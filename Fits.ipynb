{
 "cells": [
  {
   "cell_type": "code",
   "execution_count": 1,
   "metadata": {},
   "outputs": [],
   "source": [
    "import numpy as np\n",
    "from PlotSettings import MainColor1, plt\n",
    "from CrossSections import Transfer_Sigma_Low_Energy, Transfer_Sigmav_Low_Energy, sigv_T"
   ]
  },
  {
   "cell_type": "markdown",
   "metadata": {},
   "source": [
    "## Fits con datos de Yu"
   ]
  },
  {
   "cell_type": "code",
   "execution_count": 2,
   "metadata": {},
   "outputs": [],
   "source": [
    "\n",
    "#for the plots\n",
    "DwarfData = np.loadtxt('Data-Sets/DwarfDataPlot.csv', delimiter='\\t')\n",
    "Dwarf_x =     DwarfData[:,0]\n",
    "Dwarf_y =     DwarfData[:,1]\n",
    "Dwarf_Err_l = DwarfData[:,2]\n",
    "Dwarf_Err_r = DwarfData[:,3]\n",
    "Dwarf_Err_d = DwarfData[:,4]\n",
    "Dwarf_Err_u = DwarfData[:,5]\n",
    "\n",
    "GalaxyData = np.loadtxt('Data-Sets/GalaxyDataPlot.csv', delimiter='\\t')\n",
    "Galaxy_x = GalaxyData[:,0]\n",
    "Galaxy_y = GalaxyData[:,1]\n",
    "Galaxy_Err_l = GalaxyData[:,2]\n",
    "Galaxy_Err_r = GalaxyData[:,3]\n",
    "Galaxy_Err_d = GalaxyData[:,4]\n",
    "Galaxy_Err_u = GalaxyData[:,5]\n",
    "\n",
    "ClusterData = np.loadtxt('Data-Sets/ClusterDataPlot.csv', delimiter='\\t')\n",
    "Cluster_x = ClusterData[:,0]\n",
    "Cluster_y = ClusterData[:,1]\n",
    "Cluster_Err_l = ClusterData[:,2]\n",
    "Cluster_Err_r = ClusterData[:,3]\n",
    "Cluster_Err_d = ClusterData[:,4]\n",
    "Cluster_Err_u = ClusterData[:,5]\n",
    "\n",
    "# For the fit\n",
    "OrderedData = np.loadtxt('Data-Sets/Datos_ordenados.csv')\n",
    "x_data = OrderedData[:,0]\n",
    "y_data = OrderedData[:,1]\n",
    "err_x_data = OrderedData[:,2]\n",
    "err_y_data = OrderedData[:,3]\n"
   ]
  },
  {
   "cell_type": "code",
   "execution_count": 28,
   "metadata": {},
   "outputs": [
    {
     "name": "stdout",
     "output_type": "stream",
     "text": [
      "2250574.547908529\n",
      "2250574.5479085315\n"
     ]
    }
   ],
   "source": [
    "from scipy.optimize import minimize\n",
    "\n",
    "alpha_EM = 1/137\n",
    "e = np.sqrt(4*np.pi*alpha_EM)\n",
    "\n",
    "\n",
    "def compute_chi2(free_params, x=x_data, data=y_data, err=(err_x_data, err_y_data)):\n",
    "    \n",
    "    M, m = free_params\n",
    "    errx, erry = err\n",
    "    model = [Transfer_Sigmav_Low_Energy(x, g=e, M=M, m=m) for x in x]\n",
    "\n",
    "    #chi2 computation\n",
    "    chi2y= np.sum((data-model)**2/erry**2)\n",
    "    chi2x= np.sum((x - 2*x*np.sqrt(2/np.pi))**2/errx**2)\n",
    "    return chi2x + chi2y\n",
    "\n",
    "priors = [0.01, 10]\n",
    "\n",
    "#Sol = minimize(compute_chi2, priors,  method='Nelder-Mead', tol=1e-6)\n",
    "\n",
    "print(compute_chi2((0.02, 2)) )\n",
    "print(compute_chi2((0.03, 15)) )\n",
    "\n"
   ]
  },
  {
   "cell_type": "code",
   "execution_count": 29,
   "metadata": {},
   "outputs": [
    {
     "data": {
      "text/plain": [
       "1.9952623149688795"
      ]
     },
     "execution_count": 29,
     "metadata": {},
     "output_type": "execute_result"
    }
   ],
   "source": [
    "10**(0.3)"
   ]
  },
  {
   "cell_type": "markdown",
   "metadata": {},
   "source": [
    "## Fits con Datos de Camila"
   ]
  },
  {
   "cell_type": "code",
   "execution_count": 40,
   "metadata": {},
   "outputs": [],
   "source": [
    "#Import Data from Camila Correa\n",
    "CamilaData = np.loadtxt('Data-Sets/Data_Fig6_Correa_2021.txt')\n",
    "\n",
    "VelocityData = CamilaData[:,0]\n",
    "Velocity_16_Percentile = CamilaData[:,1]\n",
    "Velocity_84_Percentile = CamilaData[:,2]\n",
    "VelocityData_Err = ( (VelocityData - Velocity_16_Percentile) + (Velocity_84_Percentile - VelocityData) ) /2\n",
    "\n",
    "CrossSectionData = CamilaData[:,3]\n",
    "CrossSectionData_16_Percentile = CamilaData[:,4]\n",
    "CrossSectionData_84_Percentile = CamilaData[:,5]\n",
    "\n",
    "CrossSectionData_Err = ((CrossSectionData - CrossSectionData_16_Percentile) + (CrossSectionData_84_Percentile - CrossSectionData) )/2\n"
   ]
  },
  {
   "cell_type": "code",
   "execution_count": 51,
   "metadata": {},
   "outputs": [],
   "source": [
    "def CamilaTranser(v, M, m):\n",
    "    alpha = 0.01\n",
    "    w = 300*(M/10)*(10/m)\n",
    "    sigma0T = 274.4*(alpha/0.01)**2*(m/10)*(10/M)**4\n",
    "    return sigma0T*4*w**4/v**4 * (2*np.log(1 + v**2/(2*w**2)) - np.log(1 + v**2/w**2) )\n",
    "\n",
    "\n",
    "# Define a chi square distribution to use as input in emcee\n",
    "def compute_chi2(free_params, x=VelocityData, data=CrossSectionData, err=(VelocityData_Err, CrossSectionData_Err)):\n",
    "    #Compute model\n",
    "    M, m = free_params\n",
    "    model = [CamilaTranser(x, M=M, m=m) for x in x]\n",
    "\n",
    "    errx, erry = err\n",
    "    #chi2 computation\n",
    "    chi2y= np.sum((data-model)**2/erry**2)\n",
    "    chi2x= np.sum((x - 2*x*np.sqrt(2/np.pi))**2/errx**2)\n",
    "    return chi2y #+ chi2x\n"
   ]
  },
  {
   "cell_type": "code",
   "execution_count": 52,
   "metadata": {},
   "outputs": [
    {
     "name": "stdout",
     "output_type": "stream",
     "text": [
      "Best Fit Parameters\n",
      "M = 26.90 MeV\n",
      "m = 112.78 GeV\n"
     ]
    }
   ],
   "source": [
    "from scipy.optimize import minimize\n",
    "\n",
    "\n",
    "M_ini, m_ini = 1, 10\n",
    "\n",
    "initial = [M_ini, m_ini]\n",
    "\n",
    "soln = minimize(compute_chi2, initial, method='Nelder-Mead')\n",
    "\n",
    "M_bf, m_bf = soln.x\n",
    "\n",
    "print(\"Best Fit Parameters\")\n",
    "print('M = {0:.2f} MeV'.format(M_bf))\n",
    "print('m = {0:.2f} GeV'.format(m_bf))\n",
    "\n"
   ]
  },
  {
   "cell_type": "code",
   "execution_count": null,
   "metadata": {},
   "outputs": [],
   "source": []
  }
 ],
 "metadata": {
  "kernelspec": {
   "display_name": "base",
   "language": "python",
   "name": "python3"
  },
  "language_info": {
   "codemirror_mode": {
    "name": "ipython",
    "version": 3
   },
   "file_extension": ".py",
   "mimetype": "text/x-python",
   "name": "python",
   "nbconvert_exporter": "python",
   "pygments_lexer": "ipython3",
   "version": "3.10.9"
  }
 },
 "nbformat": 4,
 "nbformat_minor": 2
}
