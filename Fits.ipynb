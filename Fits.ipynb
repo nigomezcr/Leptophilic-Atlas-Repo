{
 "cells": [
  {
   "cell_type": "code",
   "execution_count": 3,
   "metadata": {},
   "outputs": [],
   "source": [
    "import numpy as np\n",
    "from CrossSections import Transfer_SigmaV, Transfer_sigma\n",
    "from scipy.optimize import minimize\n"
   ]
  },
  {
   "cell_type": "markdown",
   "metadata": {},
   "source": [
    "## Fits con Datos de Camila"
   ]
  },
  {
   "cell_type": "code",
   "execution_count": 4,
   "metadata": {},
   "outputs": [],
   "source": [
    "#Import Data from Camila Correa\n",
    "CamilaData_Fig6 = np.loadtxt('Data-Sets/Data_Fig6_Correa_2021.txt')\n",
    "\n",
    "VelocityData = CamilaData_Fig6[:,0]\n",
    "Velocity_16_Percentile = CamilaData_Fig6[:,1]\n",
    "Velocity_84_Percentile = CamilaData_Fig6[:,2]\n",
    "VelocityData_Err = ( (VelocityData - Velocity_16_Percentile) + (Velocity_84_Percentile - VelocityData) ) /2\n",
    "\n",
    "CrossSectionData = CamilaData_Fig6[:,3]\n",
    "CrossSectionData_16_Percentile = CamilaData_Fig6[:,4]\n",
    "CrossSectionData_84_Percentile = CamilaData_Fig6[:,5]\n",
    "\n",
    "CrossSectionData_Err = ((CrossSectionData - CrossSectionData_16_Percentile) + (CrossSectionData_84_Percentile - CrossSectionData) )/2\n"
   ]
  },
  {
   "cell_type": "code",
   "execution_count": 34,
   "metadata": {},
   "outputs": [],
   "source": [
    "def CamilaTranser(v, M, m):\n",
    "    alpha = 0.01\n",
    "    w = 300*(M/10)*(10/m)\n",
    "    sigma0T = 137.8*(alpha/0.01)**2*(m/10)*(10/M)**4\n",
    "    return sigma0T*4*w**4/v**4 * (2*np.log(1 + v**2/(2*w**2)) - np.log(1 + v**2/w**2) )\n",
    "\n",
    "\n",
    "# Define a chi square distribution to use as input in emcee\n",
    "def compute_chi2(free_params, x=VelocityData, data=CrossSectionData, err=(VelocityData_Err, CrossSectionData_Err)):\n",
    "    #Compute model\n",
    "    M, m = free_params\n",
    "    model = [CamilaTranser(x, M=M, m=m) for x in x]\n",
    "\n",
    "    errx, erry = err\n",
    "    #chi2 computation\n",
    "    chi2y= np.sum((data-model)**2/erry**2)\n",
    "    chi2x= np.sum((x - 2*x*np.sqrt(2/np.pi))**2/errx**2)\n",
    "    return chi2y + chi2x\n"
   ]
  },
  {
   "cell_type": "markdown",
   "metadata": {},
   "source": [
    "Fits for Figure 6"
   ]
  },
  {
   "cell_type": "code",
   "execution_count": 35,
   "metadata": {},
   "outputs": [
    {
     "name": "stdout",
     "output_type": "stream",
     "text": [
      "Best Fit Parameters\n",
      "M = 1.88 MeV\n",
      "m = 0.16 GeV\n",
      "Chi-squared: 3947.341690531346\n"
     ]
    }
   ],
   "source": [
    "\n",
    "M_ini, m_ini = 1, 10\n",
    "initial = [M_ini, m_ini]\n",
    "\n",
    "soln = minimize(compute_chi2, initial, method='Nelder-Mead')\n",
    "\n",
    "M_bf, m_bf = soln.x\n",
    "\n",
    "print(\"Best Fit Parameters\")\n",
    "print('M = {0:.2f} MeV'.format(M_bf))\n",
    "print('m = {0:.2f} GeV'.format(m_bf))\n",
    "print(\"Chi-squared:\", compute_chi2((M_bf, m_bf) )/(len(VelocityData) - 1) )\n"
   ]
  },
  {
   "cell_type": "markdown",
   "metadata": {},
   "source": [
    "Fits for Figure 7:"
   ]
  },
  {
   "cell_type": "code",
   "execution_count": 36,
   "metadata": {},
   "outputs": [],
   "source": [
    "CamilaData_Fig7 = np.loadtxt('Data-Sets/Data_Fig7_Correa_2021.txt')\n",
    "VelocityData = CamilaData_Fig7[:,0]\n",
    "Velocity_16_Percentile = CamilaData_Fig7[:,1]\n",
    "Velocity_84_Percentile = CamilaData_Fig7[:,2]\n",
    "VelocityData_Err = ( (VelocityData - Velocity_16_Percentile) + (Velocity_84_Percentile - VelocityData) ) /2\n",
    "\n",
    "CrossSectionData = CamilaData_Fig7[:,3]\n",
    "CrossSectionData_16_Percentile = CamilaData_Fig7[:,4]\n",
    "CrossSectionData_84_Percentile = CamilaData_Fig7[:,5]\n",
    "\n",
    "CrossSectionData_Err = ((CrossSectionData - CrossSectionData_16_Percentile) + (CrossSectionData_84_Percentile - CrossSectionData) )/2\n"
   ]
  },
  {
   "cell_type": "code",
   "execution_count": 37,
   "metadata": {},
   "outputs": [],
   "source": [
    "\n",
    "def Integrand_Camila_SigmaV(v, v0, M, m):\n",
    "    return CamilaTranser(v, M, m)*v*np.exp(-0.5*v**2/v0**2)*v**2\n",
    "\n",
    "from scipy.integrate import quad\n",
    "\n",
    "def Camila_SigmaV(v0, M, m):\n",
    "    sigma2_MB = v0**2*np.pi*(3*np.pi - 8)/np.pi\n",
    "    vmax = 2*np.sqrt(sigma2_MB)\n",
    "\n",
    "    Prefactor = 4*np.pi/((2*np.pi*v0**2)**1.5 * m)\n",
    "    Integral = quad(Integrand_Camila_SigmaV, 0.1, vmax, args=(v0, M, m))[0]\n",
    "    return Prefactor*Integral\n",
    "\n",
    "# Define a chi square distribution to use as input in emcee\n",
    "def compute_chi2(free_params, x=VelocityData, data=CrossSectionData, err=(VelocityData_Err, CrossSectionData_Err)):\n",
    "    #Compute model\n",
    "    M, m = free_params\n",
    "    model = [Camila_SigmaV(x, M, m) for x in x]\n",
    "\n",
    "    errx, erry = err\n",
    "    #chi2 computation\n",
    "    chi2y= np.sum((data-model)**2/erry**2)\n",
    "    chi2x= np.sum((x - 2*x*np.sqrt(2/np.pi))**2/errx**2)\n",
    "    return chi2y #+ chi2x"
   ]
  },
  {
   "cell_type": "code",
   "execution_count": 38,
   "metadata": {},
   "outputs": [
    {
     "name": "stdout",
     "output_type": "stream",
     "text": [
      "Best Fit Parameters\n",
      "M = 7.28 MeV\n",
      "m = 20.09 GeV\n",
      "Chi-squared: 22.281826735811517\n"
     ]
    }
   ],
   "source": [
    "soln = minimize(compute_chi2, initial, method='Nelder-Mead')\n",
    "\n",
    "M_bf, m_bf = soln.x\n",
    "\n",
    "print(\"Best Fit Parameters\")\n",
    "print('M = {0:.2f} MeV'.format(M_bf))\n",
    "print('m = {0:.2f} GeV'.format(m_bf))\n",
    "print(\"Chi-squared:\", compute_chi2((M_bf, m_bf)))"
   ]
  },
  {
   "cell_type": "markdown",
   "metadata": {},
   "source": [
    "## Fits con datos de Yu"
   ]
  },
  {
   "cell_type": "code",
   "execution_count": 10,
   "metadata": {},
   "outputs": [],
   "source": [
    "#for the plots\n",
    "DwarfData = np.loadtxt('Data-Sets/DwarfDataPlot.csv', delimiter='\\t')\n",
    "Dwarf_x =     DwarfData[:,0]\n",
    "Dwarf_y =     DwarfData[:,1]\n",
    "Dwarf_Err_l = DwarfData[:,2]\n",
    "Dwarf_Err_r = DwarfData[:,3]\n",
    "Dwarf_Err_d = DwarfData[:,4]\n",
    "Dwarf_Err_u = DwarfData[:,5]\n",
    "\n",
    "GalaxyData = np.loadtxt('Data-Sets/GalaxyDataPlot.csv', delimiter='\\t')\n",
    "Galaxy_x = GalaxyData[:,0]\n",
    "Galaxy_y = GalaxyData[:,1]\n",
    "Galaxy_Err_l = GalaxyData[:,2]\n",
    "Galaxy_Err_r = GalaxyData[:,3]\n",
    "Galaxy_Err_d = GalaxyData[:,4]\n",
    "Galaxy_Err_u = GalaxyData[:,5]\n",
    "\n",
    "ClusterData = np.loadtxt('Data-Sets/ClusterDataPlot.csv', delimiter='\\t')\n",
    "Cluster_x = ClusterData[:,0]\n",
    "Cluster_y = ClusterData[:,1]\n",
    "Cluster_Err_l = ClusterData[:,2]\n",
    "Cluster_Err_r = ClusterData[:,3]\n",
    "Cluster_Err_d = ClusterData[:,4]\n",
    "Cluster_Err_u = ClusterData[:,5]\n",
    "\n",
    "# For the fit\n",
    "OrderedData = np.loadtxt('Data-Sets/Datos_ordenados.csv')\n",
    "x_data = OrderedData[:,0]\n",
    "y_data = OrderedData[:,1]\n",
    "err_x_data = OrderedData[:,2]\n",
    "err_y_data = OrderedData[:,3]\n"
   ]
  },
  {
   "cell_type": "code",
   "execution_count": 11,
   "metadata": {},
   "outputs": [],
   "source": [
    "def NormalTranser(v, M, m):\n",
    "    alpha = 1/137\n",
    "    w = 300*(M/10)*(10/m)\n",
    "    sigma0T = 274.4*(alpha/0.01)**2*(m/10)*(10/M)**4\n",
    "    return sigma0T*4*w**4/v**4 * (np.log(1 + v**2/(w**2)) - (v/w)**2/(1 + (v/w)**2) )\n",
    "\n",
    "def Integrand_Normal_SigmaV(v, v0, M, m):\n",
    "    return NormalTranser(v, M, m)*v*np.exp(-0.5*v**2/v0**2)*v**2\n",
    "\n",
    "from scipy.integrate import quad\n",
    "\n",
    "def Normal_SigmaV(v0, M, m):\n",
    "    sigma2_MB = v0**2*np.pi*(3*np.pi - 8)/np.pi\n",
    "    vmax = 2*np.sqrt(sigma2_MB)\n",
    "\n",
    "    Prefactor = 4*np.pi/((2*np.pi*v0**2)**1.5 * m)\n",
    "    Integral = quad(Integrand_Normal_SigmaV, 0.0, vmax, args=(v0, M, m))[0]\n",
    "    return Prefactor*Integral"
   ]
  },
  {
   "cell_type": "code",
   "execution_count": 12,
   "metadata": {},
   "outputs": [
    {
     "name": "stdout",
     "output_type": "stream",
     "text": [
      "Best Fit Parameters\n",
      "M = 16.74 MeV\n",
      "m = 9.96 GeV\n",
      "Chi-squared: 1912472.709872893\n"
     ]
    }
   ],
   "source": [
    "\n",
    "M_ini, m_ini = 10, 10\n",
    "initial = [M_ini, m_ini]\n",
    "bnds= [(0.01, 1000), (0.01, 1000)]\n",
    "\n",
    "# Define a chi square distribution to use as input in emcee\n",
    "def compute_chi2(free_params, x=x_data, data=y_data, err=(err_x_data, err_y_data)):\n",
    "    #Compute model\n",
    "    M, m = free_params\n",
    "    model = [Normal_SigmaV(x, M=M, m=m) for x in x]\n",
    "\n",
    "    errx, erry = err\n",
    "    #chi2 computation\n",
    "    chi2y= np.sum((data-model)**2/erry**2)\n",
    "    chi2x= np.sum((x - 2*x*np.sqrt(2/np.pi))**2/errx**2)\n",
    "    return chi2y + chi2x\n",
    "\n",
    "soln = minimize(compute_chi2, initial, method='Nelder-Mead', bounds=bnds)\n",
    "\n",
    "M_bf, m_bf = soln.x\n",
    "\n",
    "print(\"Best Fit Parameters\")\n",
    "print('M = {0:.2f} MeV'.format(M_bf))\n",
    "print('m = {0:.2f} GeV'.format(m_bf))\n",
    "print(\"Chi-squared:\", compute_chi2((M_bf, m_bf)))\n"
   ]
  },
  {
   "cell_type": "markdown",
   "metadata": {},
   "source": [
    "Standard Cross Section but with Camila Data"
   ]
  },
  {
   "cell_type": "code",
   "execution_count": 13,
   "metadata": {},
   "outputs": [
    {
     "name": "stdout",
     "output_type": "stream",
     "text": [
      "Best Fit Parameters\n",
      "M = 8.80 MeV\n",
      "m = 20.76 GeV\n",
      "Chi-squared: 22.29372349282599\n"
     ]
    }
   ],
   "source": [
    "def compute_chi2(free_params, x=VelocityData, data=CrossSectionData, err=(VelocityData_Err, CrossSectionData_Err)):\n",
    "    #Compute model\n",
    "    M, m = free_params\n",
    "    model = [Normal_SigmaV(x, M=M, m=m) for x in x]\n",
    "\n",
    "    errx, erry = err\n",
    "    #chi2 computation\n",
    "    chi2y= np.sum((data-model)**2/erry**2)\n",
    "    chi2x= np.sum((x - 2*x*np.sqrt(2/np.pi))**2/errx**2)\n",
    "    return chi2y #+ chi2x\n",
    "\n",
    "\n",
    "M_ini, m_ini = 1, 10\n",
    "initial = [M_ini, m_ini]\n",
    "\n",
    "\n",
    "soln = minimize(compute_chi2, initial, method='Nelder-Mead')\n",
    "\n",
    "M_bf, m_bf = soln.x\n",
    "\n",
    "print(\"Best Fit Parameters\")\n",
    "print('M = {0:.2f} MeV'.format(M_bf))\n",
    "print('m = {0:.2f} GeV'.format(m_bf))\n",
    "print(\"Chi-squared:\", compute_chi2((M_bf, m_bf)))"
   ]
  },
  {
   "cell_type": "markdown",
   "metadata": {},
   "source": [
    "## Particle Physics Cross Section with Camila Data"
   ]
  },
  {
   "cell_type": "markdown",
   "metadata": {},
   "source": [
    "Data From Dwarfs"
   ]
  },
  {
   "cell_type": "code",
   "execution_count": 23,
   "metadata": {},
   "outputs": [],
   "source": [
    "#Import Data from Camila Correa\n",
    "CamilaData_Fig6 = np.loadtxt('Data-Sets/Data_Fig6_Correa_2021.txt')\n",
    "\n",
    "VelocityData = CamilaData_Fig6[:,0]\n",
    "Velocity_16_Percentile = CamilaData_Fig6[:,1]\n",
    "Velocity_84_Percentile = CamilaData_Fig6[:,2]\n",
    "VelocityData_Err = ( (VelocityData - Velocity_16_Percentile) + (Velocity_84_Percentile - VelocityData) ) /2\n",
    "\n",
    "CrossSectionData = CamilaData_Fig6[:,3]\n",
    "CrossSectionData_16_Percentile = CamilaData_Fig6[:,4]\n",
    "CrossSectionData_84_Percentile = CamilaData_Fig6[:,5]\n",
    "\n",
    "CrossSectionData_Err = ((CrossSectionData - CrossSectionData_16_Percentile) + (CrossSectionData_84_Percentile - CrossSectionData) )/2"
   ]
  },
  {
   "cell_type": "code",
   "execution_count": 24,
   "metadata": {},
   "outputs": [
    {
     "name": "stdout",
     "output_type": "stream",
     "text": [
      "Best Fit Parameters\n",
      "M = 9.97 MeV\n",
      "m = 10.59 GeV\n",
      "Chi-squared: 268.4677777740588\n"
     ]
    }
   ],
   "source": [
    "# Define a chi square distribution to use as input in emcee\n",
    "def compute_chi2(free_params, x=VelocityData, data=CrossSectionData, err=(VelocityData_Err, CrossSectionData_Err)):\n",
    "    #Compute model\n",
    "    M, m = free_params\n",
    "    model = [Transfer_sigma(x, g=0.3, M=M, m=m) for x in x]\n",
    "\n",
    "    errx, erry = err\n",
    "    #chi2 computation\n",
    "    chi2y= np.sum((data-model)**2/erry**2)\n",
    "    chi2x= np.sum((x - 2*x*np.sqrt(2/np.pi))**2/errx**2)\n",
    "    return chi2y #+ chi2x\n",
    "\n",
    "\n",
    "M_ini, m_ini = 10, 10\n",
    "initial = [M_ini, m_ini]\n",
    "bnds= [(1, 1000), (.01, 1000)]\n",
    "\n",
    "\n",
    "soln = minimize(compute_chi2, initial, method='Nelder-Mead', bounds=bnds)\n",
    "\n",
    "M_bf, m_bf = soln.x\n",
    "\n",
    "print(\"Best Fit Parameters\")\n",
    "print('M = {0:.2f} MeV'.format(M_bf))\n",
    "print('m = {0:.2f} GeV'.format(m_bf))\n",
    "print(\"Chi-squared:\", compute_chi2((M_bf, m_bf)))"
   ]
  },
  {
   "cell_type": "markdown",
   "metadata": {},
   "source": [
    "Data From clusters"
   ]
  },
  {
   "cell_type": "code",
   "execution_count": 25,
   "metadata": {},
   "outputs": [],
   "source": [
    "CamilaData_Fig7 = np.loadtxt('Data-Sets/Data_Fig7_Correa_2021.txt')\n",
    "VelocityData = CamilaData_Fig7[:,0]\n",
    "Velocity_16_Percentile = CamilaData_Fig7[:,1]\n",
    "Velocity_84_Percentile = CamilaData_Fig7[:,2]\n",
    "VelocityData_Err = ( (VelocityData - Velocity_16_Percentile) + (Velocity_84_Percentile - VelocityData) ) /2\n",
    "\n",
    "CrossSectionData = CamilaData_Fig7[:,3]\n",
    "CrossSectionData_16_Percentile = CamilaData_Fig7[:,4]\n",
    "CrossSectionData_84_Percentile = CamilaData_Fig7[:,5]\n",
    "\n",
    "CrossSectionData_Err = ((CrossSectionData - CrossSectionData_16_Percentile) + (CrossSectionData_84_Percentile - CrossSectionData) )/2\n"
   ]
  },
  {
   "cell_type": "code",
   "execution_count": 27,
   "metadata": {},
   "outputs": [
    {
     "name": "stdout",
     "output_type": "stream",
     "text": [
      "Best Fit Parameters\n",
      "M = 3.09 GeV\n",
      "m = 1000.00 GeV\n",
      "Chi-squared: 268.4661031274749\n"
     ]
    }
   ],
   "source": [
    "# Define a chi square distribution to use as input in emcee\n",
    "def compute_chi2(free_params, x=VelocityData, data=CrossSectionData, err=(VelocityData_Err, CrossSectionData_Err)):\n",
    "    #Compute model\n",
    "    M, m = free_params\n",
    "    model = [Transfer_SigmaV(x, g=0.3, M=M, m=m) for x in x]\n",
    "\n",
    "    errx, erry = err\n",
    "    #chi2 computation\n",
    "    chi2y= np.sum((data-model)**2/erry**2)\n",
    "    chi2x= np.sum((x - 2*x*np.sqrt(2/np.pi))**2/errx**2)\n",
    "    return chi2y #+ chi2x\n",
    "\n",
    "\n",
    "M_ini, m_ini = 0.01, 100\n",
    "initial = [M_ini, m_ini]\n",
    "bnds= [(.001, 100), (.01, 1000)]\n",
    "\n",
    "\n",
    "soln = minimize(compute_chi2, initial, method='Nelder-Mead', bounds=bnds)\n",
    "\n",
    "M_bf, m_bf = soln.x\n",
    "\n",
    "print(\"Best Fit Parameters\")\n",
    "print('M = {0:.2f} GeV'.format(M_bf))\n",
    "print('m = {0:.2f} GeV'.format(m_bf))\n",
    "print(\"Chi-squared:\", compute_chi2((M_bf, m_bf)))"
   ]
  },
  {
   "cell_type": "markdown",
   "metadata": {},
   "source": [
    "Data from Yu"
   ]
  },
  {
   "cell_type": "code",
   "execution_count": 28,
   "metadata": {},
   "outputs": [],
   "source": [
    "# For the fit\n",
    "OrderedData = np.loadtxt('Data-Sets/Datos_ordenados.csv')\n",
    "x_data = OrderedData[:,0]\n",
    "y_data = OrderedData[:,1]\n",
    "err_x_data = OrderedData[:,2]\n",
    "err_y_data = OrderedData[:,3]"
   ]
  },
  {
   "cell_type": "code",
   "execution_count": 30,
   "metadata": {},
   "outputs": [
    {
     "name": "stdout",
     "output_type": "stream",
     "text": [
      "Best Fit Parameters\n",
      "M = 8.77 GeV\n",
      "m = 1000.00 GeV\n",
      "Chi-squared: 2250574.5479085315\n"
     ]
    }
   ],
   "source": [
    "\n",
    "M_ini, m_ini = .01, 10\n",
    "initial = [M_ini, m_ini]\n",
    "bnds= [(0.001, 100), (0.01, 1000)]\n",
    "\n",
    "# Define a chi square distribution to use as input in emcee\n",
    "def compute_chi2(free_params, x=x_data, data=y_data, err=(err_x_data, err_y_data)):\n",
    "    #Compute model\n",
    "    M, m = free_params\n",
    "    model = [Transfer_SigmaV(x, M=M, m=m) for x in x]\n",
    "\n",
    "    errx, erry = err\n",
    "    #chi2 computation\n",
    "    chi2y= np.sum((data-model)**2/erry**2)\n",
    "    chi2x= np.sum((x - 2*x*np.sqrt(2/np.pi))**2/errx**2)\n",
    "    return chi2y + chi2x\n",
    "\n",
    "soln = minimize(compute_chi2, initial, method='Nelder-Mead', bounds=bnds)\n",
    "\n",
    "M_bf, m_bf = soln.x\n",
    "\n",
    "print(\"Best Fit Parameters\")\n",
    "print('M = {0:.2f} GeV'.format(M_bf))\n",
    "print('m = {0:.2f} GeV'.format(m_bf))\n",
    "print(\"Chi-squared:\", compute_chi2((M_bf, m_bf)))"
   ]
  },
  {
   "cell_type": "markdown",
   "metadata": {},
   "source": [
    "## MCMC"
   ]
  },
  {
   "cell_type": "code",
   "execution_count": 19,
   "metadata": {},
   "outputs": [],
   "source": [
    "import emcee\n",
    "\n",
    "\n",
    "\n",
    "\"\"\"\n",
    "////////////// Functions for the Fit //////////////////\n",
    "\"\"\"\n",
    "#Useful functions to use emcee\n",
    "class mcmc_res:\n",
    "    def __init__(self, sampler, x0=None):\n",
    "        self.sampler = sampler\n",
    "        self.flat_samples = sampler.get_chain(discard=100, thin=15, flat=True)\n",
    "        self.x = []\n",
    "        self.x_low = []\n",
    "        self.x_high = []\n",
    "        self.ndim = self.flat_samples.shape[1]\n",
    "        for i in range(self.ndim):\n",
    "            mcmc = np.percentile(self.flat_samples[:, i], [16, 50, 84])\n",
    "            q = np.diff(mcmc)\n",
    "            self.x.append(mcmc[1])\n",
    "            self.x_low.append(q[0])\n",
    "            self.x_high.append(q[1])\n",
    "        self.x0 = x0\n",
    "        self.nonmarg_bestfit = sampler.flatchain[np.argmin(sampler.flatlnprobability)]\n",
    "        \n",
    "def run_mcmc(func_chi2, x0=None, bounds=None, nstep=5000, args=()):    \n",
    "    assert x0 is not None, 'please, provide a first guess of the parameter values'\n",
    "    assert bounds is not None, 'please, provide the boundaries of the parameter hyperspace'    \n",
    "    def log_prior(theta, bounds):\n",
    "        theta_l = list(theta)\n",
    "        for i, pp in enumerate(theta_l):\n",
    "            if (pp < bounds[i][0]) | (pp > bounds[i][1]):\n",
    "                return -np.inf\n",
    "        return 0    \n",
    "    def log_likelihood(theta, *args):\n",
    "        return -0.5 * func_chi2(theta, *args)    \n",
    "    def log_probability(theta, *args):\n",
    "        lp = log_prior(theta, bounds)\n",
    "        if not np.isfinite(lp):\n",
    "            return -np.inf\n",
    "        return lp + log_likelihood(theta, *args)    \n",
    "    #import emcee    \n",
    "    ndim = len(x0)\n",
    "    nwalkers = 4 * ndim    \n",
    "    pos = x0 + 1e-4 * np.random.randn(nwalkers, ndim)    \n",
    "    sampler = emcee.EnsembleSampler(nwalkers, ndim, log_probability, args=args)\n",
    "    sampler.run_mcmc(pos, nstep, progress=True)    \n",
    "    result = mcmc_res(sampler, x0=x0) \n",
    "    # Autocorrelation time\n",
    "    #tau = sampler.get_autocorr_time()\n",
    "    #print(tau)\n",
    "    return result"
   ]
  },
  {
   "cell_type": "code",
   "execution_count": 22,
   "metadata": {},
   "outputs": [
    {
     "name": "stderr",
     "output_type": "stream",
     "text": [
      "  0%|          | 21/5000 [00:10<36:05,  2.30it/s]d:\\Nicolás\\Documents\\Research\\Pre-Prints\\Leptophilic-Atlas\\Leptophilic-Atlas-Repo\\Leptophilic-Atlas-Repo\\CrossSections.py:157: IntegrationWarning: The integral is probably divergent, or slowly convergent.\n",
      "  Integral = quad(Transfer_SigV_integrand, 0.1, vmax, args=(v0, g, M, m))[0]\n",
      "100%|██████████| 5000/5000 [06:59<00:00, 11.91it/s]\n"
     ]
    },
    {
     "data": {
      "text/plain": [
       "[52.02433434957565, 489.4104118629]"
      ]
     },
     "execution_count": 22,
     "metadata": {},
     "output_type": "execute_result"
    }
   ],
   "source": [
    "data_args = (VelocityData, CrossSectionData, (VelocityData_Err, CrossSectionData_Err))\n",
    "\n",
    "\n",
    "M_ini, m_ini = 0.01, 100\n",
    "initial = [M_ini, m_ini]\n",
    "bnds= [(0.001, 100), (.01, 1000)]\n",
    "\n",
    "\n",
    "bf = run_mcmc(compute_chi2, x0=initial, bounds=bnds)\n",
    "\n",
    "bf.x"
   ]
  },
  {
   "cell_type": "code",
   "execution_count": 31,
   "metadata": {},
   "outputs": [
    {
     "name": "stderr",
     "output_type": "stream",
     "text": [
      "100%|██████████| 5000/5000 [10:56<00:00,  7.62it/s]\n"
     ]
    },
    {
     "data": {
      "text/plain": [
       "[53.014090183501295, 508.3981849187757]"
      ]
     },
     "execution_count": 31,
     "metadata": {},
     "output_type": "execute_result"
    }
   ],
   "source": [
    "data_args = (x_data, y_data, (err_x_data, err_y_data))\n",
    "\n",
    "M_ini, m_ini = 0.01, 100\n",
    "initial = [M_ini, m_ini]\n",
    "bnds= [(0.001, 100), (.01, 1000)]\n",
    "\n",
    "\n",
    "bfY = run_mcmc(compute_chi2, x0=initial, bounds=bnds)\n",
    "\n",
    "bfY.x"
   ]
  },
  {
   "cell_type": "code",
   "execution_count": 32,
   "metadata": {},
   "outputs": [
    {
     "data": {
      "image/png": "[encoded data removed]",
      "text/plain": [
       "<Figure size 550x550 with 4 Axes>"
      ]
     },
     "metadata": {},
     "output_type": "display_data"
    }
   ],
   "source": [
    "import corner\n",
    "\n",
    "truth = bfY.x\n",
    "labels = ['M', 'm']\n",
    "bounds = bnds\n",
    "\n",
    "figure = corner.corner(\n",
    "            bfY.flat_samples, labels=labels, title_kwargs={\"fontsize\": 12}, \n",
    "            label_kwargs={\"fontsize\": 12}, smooth=2, smooth1d=2, truths=truth,\n",
    "            range=bounds, color='royalblue',\n",
    "            levels=(0.39,0.68), plot_datapoints=False, show_titles=True\n",
    "        )"
   ]
  },
  {
   "cell_type": "code",
   "execution_count": 33,
   "metadata": {},
   "outputs": [
    {
     "name": "stderr",
     "output_type": "stream",
     "text": [
      "100%|██████████| 5000/5000 [11:04<00:00,  7.53it/s]\n"
     ]
    },
    {
     "data": {
      "text/plain": [
       "[49.40306679690377, 503.26334887433825]"
      ]
     },
     "execution_count": 33,
     "metadata": {},
     "output_type": "execute_result"
    }
   ],
   "source": [
    "def compute_chi2(free_params, x=x_data, data=y_data, err=(err_x_data, err_y_data)):\n",
    "    #Compute model\n",
    "    M, m = free_params\n",
    "    model = [Transfer_SigmaV(x, g=0.1, M=M, m=m) for x in x]\n",
    "\n",
    "    errx, erry = err\n",
    "    #chi2 computation\n",
    "    chi2y= np.sum((data-model)**2/erry**2)\n",
    "    chi2x= np.sum((x - 2*x*np.sqrt(2/np.pi))**2/errx**2)\n",
    "    return chi2y + chi2x\n",
    "\n",
    "\n",
    "M_ini, m_ini = 0.01, 100\n",
    "initial = [M_ini, m_ini]\n",
    "bnds= [(0.001, 100), (.01, 1000)]\n",
    "\n",
    "\n",
    "bf2 = run_mcmc(compute_chi2, x0=initial, bounds=bnds)\n",
    "\n",
    "bf2.x"
   ]
  },
  {
   "cell_type": "markdown",
   "metadata": {},
   "source": [
    "## Plots"
   ]
  },
  {
   "cell_type": "code",
   "execution_count": 2,
   "metadata": {},
   "outputs": [
    {
     "data": {
      "image/png": "[encoded data removed]",
      "text/plain": [
       "<Figure size 640x480 with 1 Axes>"
      ]
     },
     "metadata": {},
     "output_type": "display_data"
    }
   ],
   "source": [
    "import matplotlib.pyplot as plt \n",
    "v_array = np.logspace(1, 3, 100)\n",
    "crossSection_array = [Transfer_sigma(v) for v in v_array]\n",
    "\n",
    "\n",
    "plt.plot(v_array, crossSection_array)\n",
    "\n",
    "\n",
    "plt.xscale('log')\n",
    "plt.yscale('log')\n",
    "plt.ylabel('Transfer Cross Section')\n",
    "plt.xlabel('velocity')\n",
    "plt.show()\n"
   ]
  },
  {
   "cell_type": "code",
   "execution_count": null,
   "metadata": {},
   "outputs": [],
   "source": []
  }
 ],
 "metadata": {
  "kernelspec": {
   "display_name": "base",
   "language": "python",
   "name": "python3"
  },
  "language_info": {
   "codemirror_mode": {
    "name": "ipython",
    "version": 3
   },
   "file_extension": ".py",
   "mimetype": "text/x-python",
   "name": "python",
   "nbconvert_exporter": "python",
   "pygments_lexer": "ipython3",
   "version": "3.10.9"
  }
 },
 "nbformat": 4,
 "nbformat_minor": 2
}
