{
 "cells": [
  {
   "cell_type": "code",
   "execution_count": 1,
   "metadata": {},
   "outputs": [],
   "source": [
    "import numpy as np\n",
    "from CrossSections import Transfer_SigmaV, Transfer_sigma\n",
    "from scipy.optimize import minimize\n"
   ]
  },
  {
   "cell_type": "markdown",
   "metadata": {},
   "source": [
    "## Fits con Datos de Camila"
   ]
  },
  {
   "cell_type": "code",
   "execution_count": 2,
   "metadata": {},
   "outputs": [],
   "source": [
    "#Import Data from Camila Correa\n",
    "CamilaData_Fig6 = np.loadtxt('Data-Sets/Data_Fig6_Correa_2021.txt')\n",
    "\n",
    "VelocityData = CamilaData_Fig6[:,0]\n",
    "Velocity_16_Percentile = CamilaData_Fig6[:,1]\n",
    "Velocity_84_Percentile = CamilaData_Fig6[:,2]\n",
    "VelocityData_Err = ( (VelocityData - Velocity_16_Percentile) + (Velocity_84_Percentile - VelocityData) ) /2\n",
    "\n",
    "CrossSectionData = CamilaData_Fig6[:,3]\n",
    "CrossSectionData_16_Percentile = CamilaData_Fig6[:,4]\n",
    "CrossSectionData_84_Percentile = CamilaData_Fig6[:,5]\n",
    "\n",
    "CrossSectionData_Err = ((CrossSectionData - CrossSectionData_16_Percentile) + (CrossSectionData_84_Percentile - CrossSectionData) )/2\n"
   ]
  },
  {
   "cell_type": "code",
   "execution_count": 10,
   "metadata": {},
   "outputs": [],
   "source": [
    "def CamilaTranser(v, M, m):\n",
    "    alpha = 0.3\n",
    "    w = 300*(M/10)*(10/m)\n",
    "    sigma0T = 274.4*(alpha/0.01)**2*(m/10)*(10/M)**4\n",
    "    return sigma0T*4*w**4/v**4 * (2*np.log(1 + v**2/(2*w**2)) - np.log(1 + v**2/w**2) )\n",
    "\n",
    "\n",
    "# Define a chi square distribution to use as input in emcee\n",
    "def compute_chi2(free_params, x=VelocityData, data=CrossSectionData, err=(VelocityData_Err, CrossSectionData_Err)):\n",
    "    #Compute model\n",
    "    M, m = free_params\n",
    "    model = [CamilaTranser(x, M=M, m=m) for x in x]\n",
    "\n",
    "    errx, erry = err\n",
    "    #chi2 computation\n",
    "    chi2y= np.sum((data-model)**2/erry**2)\n",
    "    chi2x= np.sum((x - 2*x*np.sqrt(2/np.pi))**2/errx**2)\n",
    "    return chi2y# + chi2x\n"
   ]
  },
  {
   "cell_type": "markdown",
   "metadata": {},
   "source": [
    "Fits for Figure 6"
   ]
  },
  {
   "cell_type": "code",
   "execution_count": 11,
   "metadata": {},
   "outputs": [
    {
     "name": "stdout",
     "output_type": "stream",
     "text": [
      "Best Fit Parameters\n",
      "M = 69.28 MeV\n",
      "m = 3.44 GeV\n",
      "Chi-squared: 3.979851002097949\n"
     ]
    }
   ],
   "source": [
    "\n",
    "M_ini, m_ini = 50, 6\n",
    "initial = [M_ini, m_ini]\n",
    "\n",
    "soln = minimize(compute_chi2, initial, method='Nelder-Mead')\n",
    "\n",
    "M_bf, m_bf = soln.x\n",
    "\n",
    "print(\"Best Fit Parameters\")\n",
    "print('M = {0:.2f} MeV'.format(M_bf))\n",
    "print('m = {0:.2f} GeV'.format(m_bf))\n",
    "print(\"Chi-squared:\", compute_chi2((M_bf, m_bf) )/(len(VelocityData) - 1) )\n"
   ]
  },
  {
   "cell_type": "code",
   "execution_count": 12,
   "metadata": {},
   "outputs": [
    {
     "data": {
      "text/plain": [
       "410.09009054320126"
      ]
     },
     "execution_count": 12,
     "metadata": {},
     "output_type": "execute_result"
    }
   ],
   "source": [
    "compute_chi2([53.933, 6.605])/(len(VelocityData) - 1) "
   ]
  },
  {
   "cell_type": "markdown",
   "metadata": {},
   "source": [
    "Fits for Figure 7:"
   ]
  },
  {
   "cell_type": "code",
   "execution_count": null,
   "metadata": {},
   "outputs": [],
   "source": [
    "CamilaData_Fig7 = np.loadtxt('Data-Sets/Data_Fig7_Correa_2021.txt')\n",
    "VelocityData = CamilaData_Fig7[:,0]\n",
    "Velocity_16_Percentile = CamilaData_Fig7[:,1]\n",
    "Velocity_84_Percentile = CamilaData_Fig7[:,2]\n",
    "VelocityData_Err = ( (VelocityData - Velocity_16_Percentile) + (Velocity_84_Percentile - VelocityData) ) /2\n",
    "\n",
    "CrossSectionData = CamilaData_Fig7[:,3]\n",
    "CrossSectionData_16_Percentile = CamilaData_Fig7[:,4]\n",
    "CrossSectionData_84_Percentile = CamilaData_Fig7[:,5]\n",
    "\n",
    "CrossSectionData_Err = ((CrossSectionData - CrossSectionData_16_Percentile) + (CrossSectionData_84_Percentile - CrossSectionData) )/2\n"
   ]
  },
  {
   "cell_type": "code",
   "execution_count": null,
   "metadata": {},
   "outputs": [],
   "source": [
    "\n",
    "def Integrand_Camila_SigmaV(v, v0, M, m):\n",
    "    return CamilaTranser(v, M, m)*v*np.exp(-0.5*v**2/v0**2)*v**2\n",
    "\n",
    "from scipy.integrate import quad\n",
    "\n",
    "def Camila_SigmaV(v0, M, m):\n",
    "    sigma2_MB = v0**2*np.pi*(3*np.pi - 8)/np.pi\n",
    "    vmax = 2*np.sqrt(sigma2_MB)\n",
    "\n",
    "    Prefactor = 4*np.pi/((2*np.pi*v0**2)**1.5 * m)\n",
    "    Integral = quad(Integrand_Camila_SigmaV, 0.1, vmax, args=(v0, M, m))[0]\n",
    "    return Prefactor*Integral\n",
    "\n",
    "# Define a chi square distribution to use as input in emcee\n",
    "def compute_chi2(free_params, x=VelocityData, data=CrossSectionData, err=(VelocityData_Err, CrossSectionData_Err)):\n",
    "    #Compute model\n",
    "    M, m = free_params\n",
    "    model = [Camila_SigmaV(x, M, m) for x in x]\n",
    "\n",
    "    errx, erry = err\n",
    "    #chi2 computation\n",
    "    chi2y= np.sum((data-model)**2/erry**2)\n",
    "    chi2x= np.sum((x - 2*x*np.sqrt(2/np.pi))**2/errx**2)\n",
    "    return chi2y #+ chi2x"
   ]
  },
  {
   "cell_type": "code",
   "execution_count": null,
   "metadata": {},
   "outputs": [],
   "source": [
    "soln = minimize(compute_chi2, initial, method='Nelder-Mead')\n",
    "\n",
    "M_bf, m_bf = soln.x\n",
    "\n",
    "print(\"Best Fit Parameters\")\n",
    "print('M = {0:.2f} MeV'.format(M_bf))\n",
    "print('m = {0:.2f} GeV'.format(m_bf))\n",
    "print(\"Chi-squared:\", compute_chi2((M_bf, m_bf)))"
   ]
  },
  {
   "cell_type": "markdown",
   "metadata": {},
   "source": [
    "## Fits con datos de Yu"
   ]
  },
  {
   "cell_type": "code",
   "execution_count": null,
   "metadata": {},
   "outputs": [],
   "source": [
    "# For the fit\n",
    "OrderedData = np.loadtxt('Data-Sets/Datos_ordenados.csv')\n",
    "x_data = OrderedData[:,0]\n",
    "y_data = OrderedData[:,1]\n",
    "err_x_data = OrderedData[:,2]\n",
    "err_y_data = OrderedData[:,3]\n"
   ]
  },
  {
   "cell_type": "code",
   "execution_count": null,
   "metadata": {},
   "outputs": [],
   "source": [
    "def NormalTranser(v, M, m):\n",
    "    alpha = 1/137\n",
    "    w = 300*(M/10)*(10/m)\n",
    "    sigma0T = 274.4*(alpha/0.01)**2*(m/10)*(10/M)**4\n",
    "    return sigma0T*4*w**4/v**4 * (np.log(1 + v**2/(w**2)) - (v/w)**2/(1 + (v/w)**2) )\n",
    "\n",
    "def Integrand_Normal_SigmaV(v, v0, M, m):\n",
    "    return NormalTranser(v, M, m)*v*np.exp(-0.5*v**2/v0**2)*v**2\n",
    "\n",
    "from scipy.integrate import quad\n",
    "\n",
    "def Normal_SigmaV(v0, M, m):\n",
    "    sigma2_MB = v0**2*np.pi*(3*np.pi - 8)/np.pi\n",
    "    vmax = 2*np.sqrt(sigma2_MB)\n",
    "\n",
    "    Prefactor = 4*np.pi/((2*np.pi*v0**2)**1.5 * m)\n",
    "    Integral = quad(Integrand_Normal_SigmaV, 0.0, vmax, args=(v0, M, m))[0]\n",
    "    return Prefactor*Integral"
   ]
  },
  {
   "cell_type": "code",
   "execution_count": null,
   "metadata": {},
   "outputs": [],
   "source": [
    "\n",
    "M_ini, m_ini = 10, 10\n",
    "initial = [M_ini, m_ini]\n",
    "bnds= [(0.01, 1000), (0.01, 1000)]\n",
    "\n",
    "# Define a chi square distribution to use as input in emcee\n",
    "def compute_chi2(free_params, x=x_data, data=y_data, err=(err_x_data, err_y_data)):\n",
    "    #Compute model\n",
    "    M, m = free_params\n",
    "    model = [Normal_SigmaV(x, M=M, m=m) for x in x]\n",
    "\n",
    "    errx, erry = err\n",
    "    #chi2 computation\n",
    "    chi2y= np.sum((data-model)**2/erry**2)\n",
    "    chi2x= np.sum((x - 2*x*np.sqrt(2/np.pi))**2/errx**2)\n",
    "    return chi2y + chi2x\n",
    "\n",
    "soln = minimize(compute_chi2, initial, method='Nelder-Mead', bounds=bnds)\n",
    "\n",
    "M_bf, m_bf = soln.x\n",
    "\n",
    "print(\"Best Fit Parameters\")\n",
    "print('M = {0:.2f} MeV'.format(M_bf))\n",
    "print('m = {0:.2f} GeV'.format(m_bf))\n",
    "print(\"Chi-squared:\", compute_chi2((M_bf, m_bf)))\n"
   ]
  },
  {
   "cell_type": "markdown",
   "metadata": {},
   "source": [
    "Standard Cross Section but with Camila Data"
   ]
  },
  {
   "cell_type": "code",
   "execution_count": null,
   "metadata": {},
   "outputs": [],
   "source": [
    "def compute_chi2(free_params, x=VelocityData, data=CrossSectionData, err=(VelocityData_Err, CrossSectionData_Err)):\n",
    "    #Compute model\n",
    "    M, m = free_params\n",
    "    model = [Normal_SigmaV(x, M=M, m=m) for x in x]\n",
    "\n",
    "    errx, erry = err\n",
    "    #chi2 computation\n",
    "    chi2y= np.sum((data-model)**2/erry**2)\n",
    "    chi2x= np.sum((x - 2*x*np.sqrt(2/np.pi))**2/errx**2)\n",
    "    return chi2y #+ chi2x\n",
    "\n",
    "\n",
    "M_ini, m_ini = 1, 10\n",
    "initial = [M_ini, m_ini]\n",
    "\n",
    "\n",
    "soln = minimize(compute_chi2, initial, method='Nelder-Mead')\n",
    "\n",
    "M_bf, m_bf = soln.x\n",
    "\n",
    "print(\"Best Fit Parameters\")\n",
    "print('M = {0:.2f} MeV'.format(M_bf))\n",
    "print('m = {0:.2f} GeV'.format(m_bf))\n",
    "print(\"Chi-squared:\", compute_chi2((M_bf, m_bf)))"
   ]
  },
  {
   "cell_type": "markdown",
   "metadata": {},
   "source": [
    "## Particle Physics Cross Section with Camila Data"
   ]
  },
  {
   "cell_type": "markdown",
   "metadata": {},
   "source": [
    "Data From Dwarfs"
   ]
  },
  {
   "cell_type": "code",
   "execution_count": null,
   "metadata": {},
   "outputs": [],
   "source": [
    "#Import Data from Camila Correa\n",
    "CamilaData_Fig6 = np.loadtxt('Data-Sets/Data_Fig6_Correa_2021.txt')\n",
    "\n",
    "VelocityData = CamilaData_Fig6[:,0]\n",
    "Velocity_16_Percentile = CamilaData_Fig6[:,1]\n",
    "Velocity_84_Percentile = CamilaData_Fig6[:,2]\n",
    "VelocityData_Err = ( (VelocityData - Velocity_16_Percentile) + (Velocity_84_Percentile - VelocityData) ) /2\n",
    "\n",
    "CrossSectionData = CamilaData_Fig6[:,3]\n",
    "CrossSectionData_16_Percentile = CamilaData_Fig6[:,4]\n",
    "CrossSectionData_84_Percentile = CamilaData_Fig6[:,5]\n",
    "\n",
    "CrossSectionData_Err = ((CrossSectionData - CrossSectionData_16_Percentile) + (CrossSectionData_84_Percentile - CrossSectionData) )/2"
   ]
  },
  {
   "cell_type": "code",
   "execution_count": null,
   "metadata": {},
   "outputs": [],
   "source": [
    "# Define a chi square distribution to use as input in emcee\n",
    "def compute_chi2(free_params, x=VelocityData, data=CrossSectionData, err=(VelocityData_Err, CrossSectionData_Err)):\n",
    "    #Compute model\n",
    "    M, m = free_params\n",
    "    model = [Transfer_sigma(x, g=0.3, M=M, m=m) for x in x]\n",
    "\n",
    "    errx, erry = err\n",
    "    #chi2 computation\n",
    "    chi2y= np.sum((data-model)**2/erry**2)\n",
    "    chi2x= np.sum((x - 2*x*np.sqrt(2/np.pi))**2/errx**2)\n",
    "    return chi2y #+ chi2x\n",
    "\n",
    "\n",
    "M_ini, m_ini = 10, 10\n",
    "initial = [M_ini, m_ini]\n",
    "bnds= [(1, 1000), (.01, 1000)]\n",
    "\n",
    "\n",
    "soln = minimize(compute_chi2, initial, method='Nelder-Mead', bounds=bnds)\n",
    "\n",
    "M_bf, m_bf = soln.x\n",
    "\n",
    "print(\"Best Fit Parameters\")\n",
    "print('M = {0:.2f} MeV'.format(M_bf))\n",
    "print('m = {0:.2f} GeV'.format(m_bf))\n",
    "print(\"Chi-squared:\", compute_chi2((M_bf, m_bf)))"
   ]
  },
  {
   "cell_type": "markdown",
   "metadata": {},
   "source": [
    "Data From clusters"
   ]
  },
  {
   "cell_type": "code",
   "execution_count": null,
   "metadata": {},
   "outputs": [],
   "source": [
    "CamilaData_Fig7 = np.loadtxt('Data-Sets/Data_Fig7_Correa_2021.txt')\n",
    "VelocityData = CamilaData_Fig7[:,0]\n",
    "Velocity_16_Percentile = CamilaData_Fig7[:,1]\n",
    "Velocity_84_Percentile = CamilaData_Fig7[:,2]\n",
    "VelocityData_Err = ( (VelocityData - Velocity_16_Percentile) + (Velocity_84_Percentile - VelocityData) ) /2\n",
    "\n",
    "CrossSectionData = CamilaData_Fig7[:,3]\n",
    "CrossSectionData_16_Percentile = CamilaData_Fig7[:,4]\n",
    "CrossSectionData_84_Percentile = CamilaData_Fig7[:,5]\n",
    "\n",
    "CrossSectionData_Err = ((CrossSectionData - CrossSectionData_16_Percentile) + (CrossSectionData_84_Percentile - CrossSectionData) )/2\n"
   ]
  },
  {
   "cell_type": "code",
   "execution_count": null,
   "metadata": {},
   "outputs": [],
   "source": [
    "# Define a chi square distribution to use as input in emcee\n",
    "def compute_chi2(free_params, x=VelocityData, data=CrossSectionData, err=(VelocityData_Err, CrossSectionData_Err)):\n",
    "    #Compute model\n",
    "    M, m = free_params\n",
    "    model = [Transfer_SigmaV(x, g=0.3, M=M, m=m) for x in x]\n",
    "\n",
    "    errx, erry = err\n",
    "    #chi2 computation\n",
    "    chi2y= np.sum((data-model)**2/erry**2)\n",
    "    chi2x= np.sum((x - 2*x*np.sqrt(2/np.pi))**2/errx**2)\n",
    "    return chi2y #+ chi2x\n",
    "\n",
    "\n",
    "M_ini, m_ini = 0.01, 100\n",
    "initial = [M_ini, m_ini]\n",
    "bnds= [(.001, 100), (.01, 1000)]\n",
    "\n",
    "\n",
    "soln = minimize(compute_chi2, initial, method='Nelder-Mead', bounds=bnds)\n",
    "\n",
    "M_bf, m_bf = soln.x\n",
    "\n",
    "print(\"Best Fit Parameters\")\n",
    "print('M = {0:.2f} GeV'.format(M_bf))\n",
    "print('m = {0:.2f} GeV'.format(m_bf))\n",
    "print(\"Chi-squared:\", compute_chi2((M_bf, m_bf)))"
   ]
  },
  {
   "cell_type": "markdown",
   "metadata": {},
   "source": [
    "Data from Yu"
   ]
  },
  {
   "cell_type": "code",
   "execution_count": null,
   "metadata": {},
   "outputs": [],
   "source": [
    "# For the fit\n",
    "OrderedData = np.loadtxt('Data-Sets/Datos_ordenados.csv')\n",
    "x_data = OrderedData[:,0]\n",
    "y_data = OrderedData[:,1]\n",
    "err_x_data = OrderedData[:,2]\n",
    "err_y_data = OrderedData[:,3]"
   ]
  },
  {
   "cell_type": "code",
   "execution_count": null,
   "metadata": {},
   "outputs": [],
   "source": [
    "\n",
    "M_ini, m_ini = .01, 10\n",
    "initial = [M_ini, m_ini]\n",
    "bnds= [(0.001, 100), (0.01, 1000)]\n",
    "\n",
    "# Define a chi square distribution to use as input in emcee\n",
    "def compute_chi2(free_params, x=x_data, data=y_data, err=(err_x_data, err_y_data)):\n",
    "    #Compute model\n",
    "    M, m = free_params\n",
    "    model = [Transfer_SigmaV(x, M=M, m=m) for x in x]\n",
    "\n",
    "    errx, erry = err\n",
    "    #chi2 computation\n",
    "    chi2y= np.sum((data-model)**2/erry**2)\n",
    "    chi2x= np.sum((x - 2*x*np.sqrt(2/np.pi))**2/errx**2)\n",
    "    return chi2y + chi2x\n",
    "\n",
    "soln = minimize(compute_chi2, initial, method='Nelder-Mead', bounds=bnds)\n",
    "\n",
    "M_bf, m_bf = soln.x\n",
    "\n",
    "print(\"Best Fit Parameters\")\n",
    "print('M = {0:.2f} GeV'.format(M_bf))\n",
    "print('m = {0:.2f} GeV'.format(m_bf))\n",
    "print(\"Chi-squared:\", compute_chi2((M_bf, m_bf)))"
   ]
  }
 ],
 "metadata": {
  "kernelspec": {
   "display_name": "base",
   "language": "python",
   "name": "python3"
  },
  "language_info": {
   "codemirror_mode": {
    "name": "ipython",
    "version": 3
   },
   "file_extension": ".py",
   "mimetype": "text/x-python",
   "name": "python",
   "nbconvert_exporter": "python",
   "pygments_lexer": "ipython3",
   "version": "3.8.0"
  }
 },
 "nbformat": 4,
 "nbformat_minor": 2
}
